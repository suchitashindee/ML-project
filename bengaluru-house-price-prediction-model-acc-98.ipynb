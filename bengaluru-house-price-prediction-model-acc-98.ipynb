{
 "cells": [
  {
   "cell_type": "code",
   "execution_count": null,
   "id": "8f8b463e",
   "metadata": {
    "execution": {
     "iopub.execute_input": "2022-08-23T04:51:49.230009Z",
     "iopub.status.busy": "2022-08-23T04:51:49.229384Z",
     "iopub.status.idle": "2022-08-23T04:51:50.389661Z",
     "shell.execute_reply": "2022-08-23T04:51:50.388425Z"
    },
    "papermill": {
     "duration": 1.185016,
     "end_time": "2022-08-23T04:51:50.392501",
     "exception": false,
     "start_time": "2022-08-23T04:51:49.207485",
     "status": "completed"
    },
    "tags": []
   },
   "outputs": [],
   "source": [
    "import numpy as np\n",
    "import pandas as pd\n",
    "import matplotlib.pyplot as plt\n",
    "import seaborn as sns"
   ]
  },
  {
   "cell_type": "code",
   "execution_count": null,
   "id": "6801cbc1",
   "metadata": {
    "execution": {
     "iopub.execute_input": "2022-08-23T04:51:50.479132Z",
     "iopub.status.busy": "2022-08-23T04:51:50.478708Z",
     "iopub.status.idle": "2022-08-23T04:51:50.524930Z",
     "shell.execute_reply": "2022-08-23T04:51:50.523813Z"
    },
    "papermill": {
     "duration": 0.071751,
     "end_time": "2022-08-23T04:51:50.527797",
     "exception": false,
     "start_time": "2022-08-23T04:51:50.456046",
     "status": "completed"
    },
    "tags": []
   },
   "outputs": [],
   "source": [
    "df = pd.read_csv(\"Bengaluru_House_Data.csv\")"
   ]
  },
  {
   "cell_type": "markdown",
   "id": "c2fc7b05",
   "metadata": {
    "papermill": {
     "duration": 0.020222,
     "end_time": "2022-08-23T04:51:50.568526",
     "exception": false,
     "start_time": "2022-08-23T04:51:50.548304",
     "status": "completed"
    },
    "tags": []
   },
   "source": [
    "## Analysing the DataFrame"
   ]
  },
  {
   "cell_type": "code",
   "execution_count": null,
   "id": "3a454272",
   "metadata": {
    "execution": {
     "iopub.execute_input": "2022-08-23T04:51:50.610565Z",
     "iopub.status.busy": "2022-08-23T04:51:50.609657Z",
     "iopub.status.idle": "2022-08-23T04:51:50.635471Z",
     "shell.execute_reply": "2022-08-23T04:51:50.634216Z"
    },
    "papermill": {
     "duration": 0.049865,
     "end_time": "2022-08-23T04:51:50.638290",
     "exception": false,
     "start_time": "2022-08-23T04:51:50.588425",
     "status": "completed"
    },
    "tags": []
   },
   "outputs": [
    {
     "data": {
      "text/html": [
       "<div>\n",
       "<style scoped>\n",
       "    .dataframe tbody tr th:only-of-type {\n",
       "        vertical-align: middle;\n",
       "    }\n",
       "\n",
       "    .dataframe tbody tr th {\n",
       "        vertical-align: top;\n",
       "    }\n",
       "\n",
       "    .dataframe thead th {\n",
       "        text-align: right;\n",
       "    }\n",
       "</style>\n",
       "<table border=\"1\" class=\"dataframe\">\n",
       "  <thead>\n",
       "    <tr style=\"text-align: right;\">\n",
       "      <th></th>\n",
       "      <th>area_type</th>\n",
       "      <th>availability</th>\n",
       "      <th>location</th>\n",
       "      <th>size</th>\n",
       "      <th>society</th>\n",
       "      <th>total_sqft</th>\n",
       "      <th>bath</th>\n",
       "      <th>balcony</th>\n",
       "      <th>price</th>\n",
       "    </tr>\n",
       "  </thead>\n",
       "  <tbody>\n",
       "    <tr>\n",
       "      <th>0</th>\n",
       "      <td>Super built-up  Area</td>\n",
       "      <td>19-Dec</td>\n",
       "      <td>Electronic City Phase II</td>\n",
       "      <td>2 BHK</td>\n",
       "      <td>Coomee</td>\n",
       "      <td>1056</td>\n",
       "      <td>2.0</td>\n",
       "      <td>1.0</td>\n",
       "      <td>39.07</td>\n",
       "    </tr>\n",
       "    <tr>\n",
       "      <th>1</th>\n",
       "      <td>Plot  Area</td>\n",
       "      <td>Ready To Move</td>\n",
       "      <td>Chikka Tirupathi</td>\n",
       "      <td>4 Bedroom</td>\n",
       "      <td>Theanmp</td>\n",
       "      <td>2600</td>\n",
       "      <td>5.0</td>\n",
       "      <td>3.0</td>\n",
       "      <td>120.00</td>\n",
       "    </tr>\n",
       "    <tr>\n",
       "      <th>2</th>\n",
       "      <td>Built-up  Area</td>\n",
       "      <td>Ready To Move</td>\n",
       "      <td>Uttarahalli</td>\n",
       "      <td>3 BHK</td>\n",
       "      <td>NaN</td>\n",
       "      <td>1440</td>\n",
       "      <td>2.0</td>\n",
       "      <td>3.0</td>\n",
       "      <td>62.00</td>\n",
       "    </tr>\n",
       "    <tr>\n",
       "      <th>3</th>\n",
       "      <td>Super built-up  Area</td>\n",
       "      <td>Ready To Move</td>\n",
       "      <td>Lingadheeranahalli</td>\n",
       "      <td>3 BHK</td>\n",
       "      <td>Soiewre</td>\n",
       "      <td>1521</td>\n",
       "      <td>3.0</td>\n",
       "      <td>1.0</td>\n",
       "      <td>95.00</td>\n",
       "    </tr>\n",
       "    <tr>\n",
       "      <th>4</th>\n",
       "      <td>Super built-up  Area</td>\n",
       "      <td>Ready To Move</td>\n",
       "      <td>Kothanur</td>\n",
       "      <td>2 BHK</td>\n",
       "      <td>NaN</td>\n",
       "      <td>1200</td>\n",
       "      <td>2.0</td>\n",
       "      <td>1.0</td>\n",
       "      <td>51.00</td>\n",
       "    </tr>\n",
       "  </tbody>\n",
       "</table>\n",
       "</div>"
      ],
      "text/plain": [
       "              area_type   availability                  location       size  \\\n",
       "0  Super built-up  Area         19-Dec  Electronic City Phase II      2 BHK   \n",
       "1            Plot  Area  Ready To Move          Chikka Tirupathi  4 Bedroom   \n",
       "2        Built-up  Area  Ready To Move               Uttarahalli      3 BHK   \n",
       "3  Super built-up  Area  Ready To Move        Lingadheeranahalli      3 BHK   \n",
       "4  Super built-up  Area  Ready To Move                  Kothanur      2 BHK   \n",
       "\n",
       "   society total_sqft  bath  balcony   price  \n",
       "0  Coomee        1056   2.0      1.0   39.07  \n",
       "1  Theanmp       2600   5.0      3.0  120.00  \n",
       "2      NaN       1440   2.0      3.0   62.00  \n",
       "3  Soiewre       1521   3.0      1.0   95.00  \n",
       "4      NaN       1200   2.0      1.0   51.00  "
      ]
     },
     "execution_count": 445,
     "metadata": {},
     "output_type": "execute_result"
    }
   ],
   "source": [
    "df.head()"
   ]
  },
  {
   "cell_type": "code",
   "execution_count": null,
   "id": "fbac1e21",
   "metadata": {
    "execution": {
     "iopub.execute_input": "2022-08-23T04:51:50.682276Z",
     "iopub.status.busy": "2022-08-23T04:51:50.681846Z",
     "iopub.status.idle": "2022-08-23T04:51:50.710855Z",
     "shell.execute_reply": "2022-08-23T04:51:50.709525Z"
    },
    "papermill": {
     "duration": 0.054784,
     "end_time": "2022-08-23T04:51:50.713479",
     "exception": false,
     "start_time": "2022-08-23T04:51:50.658695",
     "status": "completed"
    },
    "tags": []
   },
   "outputs": [
    {
     "name": "stdout",
     "output_type": "stream",
     "text": [
      "<class 'pandas.core.frame.DataFrame'>\n",
      "RangeIndex: 13320 entries, 0 to 13319\n",
      "Data columns (total 9 columns):\n",
      " #   Column        Non-Null Count  Dtype  \n",
      "---  ------        --------------  -----  \n",
      " 0   area_type     13320 non-null  object \n",
      " 1   availability  13320 non-null  object \n",
      " 2   location      13319 non-null  object \n",
      " 3   size          13304 non-null  object \n",
      " 4   society       7818 non-null   object \n",
      " 5   total_sqft    13320 non-null  object \n",
      " 6   bath          13247 non-null  float64\n",
      " 7   balcony       12711 non-null  float64\n",
      " 8   price         13320 non-null  float64\n",
      "dtypes: float64(3), object(6)\n",
      "memory usage: 936.7+ KB\n"
     ]
    }
   ],
   "source": [
    "df.info()"
   ]
  },
  {
   "cell_type": "code",
   "execution_count": null,
   "id": "033aff48",
   "metadata": {
    "execution": {
     "iopub.execute_input": "2022-08-23T04:51:50.758255Z",
     "iopub.status.busy": "2022-08-23T04:51:50.757052Z",
     "iopub.status.idle": "2022-08-23T04:51:50.763733Z",
     "shell.execute_reply": "2022-08-23T04:51:50.762698Z"
    },
    "papermill": {
     "duration": 0.031188,
     "end_time": "2022-08-23T04:51:50.765880",
     "exception": false,
     "start_time": "2022-08-23T04:51:50.734692",
     "status": "completed"
    },
    "tags": []
   },
   "outputs": [
    {
     "data": {
      "text/plain": [
       "(13320, 9)"
      ]
     },
     "execution_count": 447,
     "metadata": {},
     "output_type": "execute_result"
    }
   ],
   "source": [
    "df.shape"
   ]
  },
  {
   "cell_type": "code",
   "execution_count": null,
   "id": "a896cd01",
   "metadata": {
    "execution": {
     "iopub.execute_input": "2022-08-23T04:51:50.809354Z",
     "iopub.status.busy": "2022-08-23T04:51:50.808911Z",
     "iopub.status.idle": "2022-08-23T04:51:50.836778Z",
     "shell.execute_reply": "2022-08-23T04:51:50.835790Z"
    },
    "papermill": {
     "duration": 0.052396,
     "end_time": "2022-08-23T04:51:50.839162",
     "exception": false,
     "start_time": "2022-08-23T04:51:50.786766",
     "status": "completed"
    },
    "tags": []
   },
   "outputs": [
    {
     "data": {
      "text/html": [
       "<div>\n",
       "<style scoped>\n",
       "    .dataframe tbody tr th:only-of-type {\n",
       "        vertical-align: middle;\n",
       "    }\n",
       "\n",
       "    .dataframe tbody tr th {\n",
       "        vertical-align: top;\n",
       "    }\n",
       "\n",
       "    .dataframe thead th {\n",
       "        text-align: right;\n",
       "    }\n",
       "</style>\n",
       "<table border=\"1\" class=\"dataframe\">\n",
       "  <thead>\n",
       "    <tr style=\"text-align: right;\">\n",
       "      <th></th>\n",
       "      <th>bath</th>\n",
       "      <th>balcony</th>\n",
       "      <th>price</th>\n",
       "    </tr>\n",
       "  </thead>\n",
       "  <tbody>\n",
       "    <tr>\n",
       "      <th>count</th>\n",
       "      <td>13247.000000</td>\n",
       "      <td>12711.000000</td>\n",
       "      <td>13320.000000</td>\n",
       "    </tr>\n",
       "    <tr>\n",
       "      <th>mean</th>\n",
       "      <td>2.692610</td>\n",
       "      <td>1.584376</td>\n",
       "      <td>112.565627</td>\n",
       "    </tr>\n",
       "    <tr>\n",
       "      <th>std</th>\n",
       "      <td>1.341458</td>\n",
       "      <td>0.817263</td>\n",
       "      <td>148.971674</td>\n",
       "    </tr>\n",
       "    <tr>\n",
       "      <th>min</th>\n",
       "      <td>1.000000</td>\n",
       "      <td>0.000000</td>\n",
       "      <td>8.000000</td>\n",
       "    </tr>\n",
       "    <tr>\n",
       "      <th>25%</th>\n",
       "      <td>2.000000</td>\n",
       "      <td>1.000000</td>\n",
       "      <td>50.000000</td>\n",
       "    </tr>\n",
       "    <tr>\n",
       "      <th>50%</th>\n",
       "      <td>2.000000</td>\n",
       "      <td>2.000000</td>\n",
       "      <td>72.000000</td>\n",
       "    </tr>\n",
       "    <tr>\n",
       "      <th>75%</th>\n",
       "      <td>3.000000</td>\n",
       "      <td>2.000000</td>\n",
       "      <td>120.000000</td>\n",
       "    </tr>\n",
       "    <tr>\n",
       "      <th>max</th>\n",
       "      <td>40.000000</td>\n",
       "      <td>3.000000</td>\n",
       "      <td>3600.000000</td>\n",
       "    </tr>\n",
       "  </tbody>\n",
       "</table>\n",
       "</div>"
      ],
      "text/plain": [
       "               bath       balcony         price\n",
       "count  13247.000000  12711.000000  13320.000000\n",
       "mean       2.692610      1.584376    112.565627\n",
       "std        1.341458      0.817263    148.971674\n",
       "min        1.000000      0.000000      8.000000\n",
       "25%        2.000000      1.000000     50.000000\n",
       "50%        2.000000      2.000000     72.000000\n",
       "75%        3.000000      2.000000    120.000000\n",
       "max       40.000000      3.000000   3600.000000"
      ]
     },
     "execution_count": 448,
     "metadata": {},
     "output_type": "execute_result"
    }
   ],
   "source": [
    "df.describe()"
   ]
  },
  {
   "cell_type": "markdown",
   "id": "7b8566a9",
   "metadata": {
    "papermill": {
     "duration": 0.020614,
     "end_time": "2022-08-23T04:51:50.881103",
     "exception": false,
     "start_time": "2022-08-23T04:51:50.860489",
     "status": "completed"
    },
    "tags": []
   },
   "source": [
    "## Data Cleaning"
   ]
  },
  {
   "cell_type": "code",
   "execution_count": null,
   "id": "1c235272",
   "metadata": {
    "execution": {
     "iopub.execute_input": "2022-08-23T04:51:50.924521Z",
     "iopub.status.busy": "2022-08-23T04:51:50.923673Z",
     "iopub.status.idle": "2022-08-23T04:51:50.936109Z",
     "shell.execute_reply": "2022-08-23T04:51:50.935294Z"
    },
    "papermill": {
     "duration": 0.036589,
     "end_time": "2022-08-23T04:51:50.938289",
     "exception": false,
     "start_time": "2022-08-23T04:51:50.901700",
     "status": "completed"
    },
    "tags": []
   },
   "outputs": [
    {
     "data": {
      "text/plain": [
       "area_type          0\n",
       "availability       0\n",
       "location           1\n",
       "size              16\n",
       "society         5502\n",
       "total_sqft         0\n",
       "bath              73\n",
       "balcony          609\n",
       "price              0\n",
       "dtype: int64"
      ]
     },
     "execution_count": 449,
     "metadata": {},
     "output_type": "execute_result"
    }
   ],
   "source": [
    "df.isnull().sum()"
   ]
  },
  {
   "cell_type": "markdown",
   "id": "92d26877",
   "metadata": {
    "papermill": {
     "duration": 0.020578,
     "end_time": "2022-08-23T04:51:50.979741",
     "exception": false,
     "start_time": "2022-08-23T04:51:50.959163",
     "status": "completed"
    },
    "tags": []
   },
   "source": [
    "#### Society as large number of null values. "
   ]
  },
  {
   "cell_type": "code",
   "execution_count": null,
   "id": "99e41272",
   "metadata": {
    "execution": {
     "iopub.execute_input": "2022-08-23T04:51:51.027045Z",
     "iopub.status.busy": "2022-08-23T04:51:51.025668Z",
     "iopub.status.idle": "2022-08-23T04:51:51.032900Z",
     "shell.execute_reply": "2022-08-23T04:51:51.031956Z"
    },
    "papermill": {
     "duration": 0.034941,
     "end_time": "2022-08-23T04:51:51.035441",
     "exception": false,
     "start_time": "2022-08-23T04:51:51.000500",
     "status": "completed"
    },
    "tags": []
   },
   "outputs": [],
   "source": [
    "df = df.drop([\"society\"], axis = 1)"
   ]
  },
  {
   "cell_type": "code",
   "execution_count": null,
   "id": "0ae34108",
   "metadata": {
    "execution": {
     "iopub.execute_input": "2022-08-23T04:51:51.079315Z",
     "iopub.status.busy": "2022-08-23T04:51:51.078640Z",
     "iopub.status.idle": "2022-08-23T04:51:51.093901Z",
     "shell.execute_reply": "2022-08-23T04:51:51.092732Z"
    },
    "papermill": {
     "duration": 0.040004,
     "end_time": "2022-08-23T04:51:51.096596",
     "exception": false,
     "start_time": "2022-08-23T04:51:51.056592",
     "status": "completed"
    },
    "tags": []
   },
   "outputs": [
    {
     "data": {
      "text/html": [
       "<div>\n",
       "<style scoped>\n",
       "    .dataframe tbody tr th:only-of-type {\n",
       "        vertical-align: middle;\n",
       "    }\n",
       "\n",
       "    .dataframe tbody tr th {\n",
       "        vertical-align: top;\n",
       "    }\n",
       "\n",
       "    .dataframe thead th {\n",
       "        text-align: right;\n",
       "    }\n",
       "</style>\n",
       "<table border=\"1\" class=\"dataframe\">\n",
       "  <thead>\n",
       "    <tr style=\"text-align: right;\">\n",
       "      <th></th>\n",
       "      <th>area_type</th>\n",
       "      <th>availability</th>\n",
       "      <th>location</th>\n",
       "      <th>size</th>\n",
       "      <th>total_sqft</th>\n",
       "      <th>bath</th>\n",
       "      <th>balcony</th>\n",
       "      <th>price</th>\n",
       "    </tr>\n",
       "  </thead>\n",
       "  <tbody>\n",
       "    <tr>\n",
       "      <th>0</th>\n",
       "      <td>Super built-up  Area</td>\n",
       "      <td>19-Dec</td>\n",
       "      <td>Electronic City Phase II</td>\n",
       "      <td>2 BHK</td>\n",
       "      <td>1056</td>\n",
       "      <td>2.0</td>\n",
       "      <td>1.0</td>\n",
       "      <td>39.07</td>\n",
       "    </tr>\n",
       "    <tr>\n",
       "      <th>1</th>\n",
       "      <td>Plot  Area</td>\n",
       "      <td>Ready To Move</td>\n",
       "      <td>Chikka Tirupathi</td>\n",
       "      <td>4 Bedroom</td>\n",
       "      <td>2600</td>\n",
       "      <td>5.0</td>\n",
       "      <td>3.0</td>\n",
       "      <td>120.00</td>\n",
       "    </tr>\n",
       "    <tr>\n",
       "      <th>2</th>\n",
       "      <td>Built-up  Area</td>\n",
       "      <td>Ready To Move</td>\n",
       "      <td>Uttarahalli</td>\n",
       "      <td>3 BHK</td>\n",
       "      <td>1440</td>\n",
       "      <td>2.0</td>\n",
       "      <td>3.0</td>\n",
       "      <td>62.00</td>\n",
       "    </tr>\n",
       "    <tr>\n",
       "      <th>3</th>\n",
       "      <td>Super built-up  Area</td>\n",
       "      <td>Ready To Move</td>\n",
       "      <td>Lingadheeranahalli</td>\n",
       "      <td>3 BHK</td>\n",
       "      <td>1521</td>\n",
       "      <td>3.0</td>\n",
       "      <td>1.0</td>\n",
       "      <td>95.00</td>\n",
       "    </tr>\n",
       "    <tr>\n",
       "      <th>4</th>\n",
       "      <td>Super built-up  Area</td>\n",
       "      <td>Ready To Move</td>\n",
       "      <td>Kothanur</td>\n",
       "      <td>2 BHK</td>\n",
       "      <td>1200</td>\n",
       "      <td>2.0</td>\n",
       "      <td>1.0</td>\n",
       "      <td>51.00</td>\n",
       "    </tr>\n",
       "  </tbody>\n",
       "</table>\n",
       "</div>"
      ],
      "text/plain": [
       "              area_type   availability                  location       size  \\\n",
       "0  Super built-up  Area         19-Dec  Electronic City Phase II      2 BHK   \n",
       "1            Plot  Area  Ready To Move          Chikka Tirupathi  4 Bedroom   \n",
       "2        Built-up  Area  Ready To Move               Uttarahalli      3 BHK   \n",
       "3  Super built-up  Area  Ready To Move        Lingadheeranahalli      3 BHK   \n",
       "4  Super built-up  Area  Ready To Move                  Kothanur      2 BHK   \n",
       "\n",
       "  total_sqft  bath  balcony   price  \n",
       "0       1056   2.0      1.0   39.07  \n",
       "1       2600   5.0      3.0  120.00  \n",
       "2       1440   2.0      3.0   62.00  \n",
       "3       1521   3.0      1.0   95.00  \n",
       "4       1200   2.0      1.0   51.00  "
      ]
     },
     "execution_count": 451,
     "metadata": {},
     "output_type": "execute_result"
    }
   ],
   "source": [
    "df.head()"
   ]
  },
  {
   "cell_type": "markdown",
   "id": "fd5c63b8",
   "metadata": {
    "papermill": {
     "duration": 0.021436,
     "end_time": "2022-08-23T04:51:51.140964",
     "exception": false,
     "start_time": "2022-08-23T04:51:51.119528",
     "status": "completed"
    },
    "tags": []
   },
   "source": [
    "#### Large number of rows in balcony have null values. They can be filled with mode of balcony column."
   ]
  },
  {
   "cell_type": "code",
   "execution_count": null,
   "id": "741e01ec",
   "metadata": {
    "execution": {
     "iopub.execute_input": "2022-08-23T04:51:51.185307Z",
     "iopub.status.busy": "2022-08-23T04:51:51.184839Z",
     "iopub.status.idle": "2022-08-23T04:51:51.194663Z",
     "shell.execute_reply": "2022-08-23T04:51:51.193809Z"
    },
    "papermill": {
     "duration": 0.034438,
     "end_time": "2022-08-23T04:51:51.196871",
     "exception": false,
     "start_time": "2022-08-23T04:51:51.162433",
     "status": "completed"
    },
    "tags": []
   },
   "outputs": [
    {
     "name": "stderr",
     "output_type": "stream",
     "text": [
      "C:\\Users\\Aakash\\AppData\\Local\\Temp\\ipykernel_9836\\2542098616.py:1: FutureWarning: A value is trying to be set on a copy of a DataFrame or Series through chained assignment using an inplace method.\n",
      "The behavior will change in pandas 3.0. This inplace method will never work because the intermediate object on which we are setting values always behaves as a copy.\n",
      "\n",
      "For example, when doing 'df[col].method(value, inplace=True)', try using 'df.method({col: value}, inplace=True)' or df[col] = df[col].method(value) instead, to perform the operation inplace on the original object.\n",
      "\n",
      "\n",
      "  df['balcony'].fillna(df['balcony'].mode(), inplace=True)\n"
     ]
    }
   ],
   "source": [
    "df['balcony'].fillna(df['balcony'].mode(), inplace=True)"
   ]
  },
  {
   "cell_type": "code",
   "execution_count": null,
   "id": "3d6e3069",
   "metadata": {
    "execution": {
     "iopub.execute_input": "2022-08-23T04:51:51.241794Z",
     "iopub.status.busy": "2022-08-23T04:51:51.240818Z",
     "iopub.status.idle": "2022-08-23T04:51:51.254919Z",
     "shell.execute_reply": "2022-08-23T04:51:51.253352Z"
    },
    "papermill": {
     "duration": 0.039482,
     "end_time": "2022-08-23T04:51:51.257841",
     "exception": false,
     "start_time": "2022-08-23T04:51:51.218359",
     "status": "completed"
    },
    "tags": []
   },
   "outputs": [],
   "source": [
    "df.dropna(axis = 0, inplace = True)"
   ]
  },
  {
   "cell_type": "code",
   "execution_count": null,
   "id": "88f071fa",
   "metadata": {
    "execution": {
     "iopub.execute_input": "2022-08-23T04:51:51.301897Z",
     "iopub.status.busy": "2022-08-23T04:51:51.301495Z",
     "iopub.status.idle": "2022-08-23T04:51:51.314091Z",
     "shell.execute_reply": "2022-08-23T04:51:51.313059Z"
    },
    "papermill": {
     "duration": 0.037468,
     "end_time": "2022-08-23T04:51:51.316339",
     "exception": false,
     "start_time": "2022-08-23T04:51:51.278871",
     "status": "completed"
    },
    "tags": []
   },
   "outputs": [
    {
     "data": {
      "text/plain": [
       "area_type       0\n",
       "availability    0\n",
       "location        0\n",
       "size            0\n",
       "total_sqft      0\n",
       "bath            0\n",
       "balcony         0\n",
       "price           0\n",
       "dtype: int64"
      ]
     },
     "execution_count": 454,
     "metadata": {},
     "output_type": "execute_result"
    }
   ],
   "source": [
    "df.isnull().sum()"
   ]
  },
  {
   "cell_type": "markdown",
   "id": "f417e6ac",
   "metadata": {
    "papermill": {
     "duration": 0.020832,
     "end_time": "2022-08-23T04:51:51.358444",
     "exception": false,
     "start_time": "2022-08-23T04:51:51.337612",
     "status": "completed"
    },
    "tags": []
   },
   "source": [
    "## Data Manipulation"
   ]
  },
  {
   "cell_type": "code",
   "execution_count": null,
   "id": "fffb0250",
   "metadata": {
    "execution": {
     "iopub.execute_input": "2022-08-23T04:51:51.402731Z",
     "iopub.status.busy": "2022-08-23T04:51:51.402310Z",
     "iopub.status.idle": "2022-08-23T04:51:51.420459Z",
     "shell.execute_reply": "2022-08-23T04:51:51.418442Z"
    },
    "papermill": {
     "duration": 0.043562,
     "end_time": "2022-08-23T04:51:51.423187",
     "exception": false,
     "start_time": "2022-08-23T04:51:51.379625",
     "status": "completed"
    },
    "tags": []
   },
   "outputs": [
    {
     "name": "stdout",
     "output_type": "stream",
     "text": [
      "<class 'pandas.core.frame.DataFrame'>\n",
      "Index: 12710 entries, 0 to 13319\n",
      "Data columns (total 8 columns):\n",
      " #   Column        Non-Null Count  Dtype  \n",
      "---  ------        --------------  -----  \n",
      " 0   area_type     12710 non-null  object \n",
      " 1   availability  12710 non-null  object \n",
      " 2   location      12710 non-null  object \n",
      " 3   size          12710 non-null  object \n",
      " 4   total_sqft    12710 non-null  object \n",
      " 5   bath          12710 non-null  float64\n",
      " 6   balcony       12710 non-null  float64\n",
      " 7   price         12710 non-null  float64\n",
      "dtypes: float64(3), object(5)\n",
      "memory usage: 893.7+ KB\n"
     ]
    }
   ],
   "source": [
    "df.info()"
   ]
  },
  {
   "cell_type": "code",
   "execution_count": null,
   "id": "f988718d",
   "metadata": {
    "execution": {
     "iopub.execute_input": "2022-08-23T04:51:51.467938Z",
     "iopub.status.busy": "2022-08-23T04:51:51.467518Z",
     "iopub.status.idle": "2022-08-23T04:51:51.484248Z",
     "shell.execute_reply": "2022-08-23T04:51:51.483029Z"
    },
    "papermill": {
     "duration": 0.042115,
     "end_time": "2022-08-23T04:51:51.486620",
     "exception": false,
     "start_time": "2022-08-23T04:51:51.444505",
     "status": "completed"
    },
    "tags": []
   },
   "outputs": [
    {
     "data": {
      "text/plain": [
       "area_type          4\n",
       "availability      78\n",
       "location        1265\n",
       "size              27\n",
       "total_sqft      1976\n",
       "bath              16\n",
       "balcony            4\n",
       "price           1924\n",
       "dtype: int64"
      ]
     },
     "execution_count": 456,
     "metadata": {},
     "output_type": "execute_result"
    }
   ],
   "source": [
    "df.nunique()"
   ]
  },
  {
   "cell_type": "code",
   "execution_count": null,
   "id": "66a6e327",
   "metadata": {
    "execution": {
     "iopub.execute_input": "2022-08-23T04:51:51.530810Z",
     "iopub.status.busy": "2022-08-23T04:51:51.530363Z",
     "iopub.status.idle": "2022-08-23T04:51:51.538870Z",
     "shell.execute_reply": "2022-08-23T04:51:51.537774Z"
    },
    "papermill": {
     "duration": 0.033321,
     "end_time": "2022-08-23T04:51:51.541127",
     "exception": false,
     "start_time": "2022-08-23T04:51:51.507806",
     "status": "completed"
    },
    "tags": []
   },
   "outputs": [
    {
     "data": {
      "text/plain": [
       "array(['Super built-up  Area', 'Plot  Area', 'Built-up  Area',\n",
       "       'Carpet  Area'], dtype=object)"
      ]
     },
     "execution_count": 457,
     "metadata": {},
     "output_type": "execute_result"
    }
   ],
   "source": [
    "df[\"area_type\"].unique()"
   ]
  },
  {
   "cell_type": "code",
   "execution_count": null,
   "id": "fc32383f",
   "metadata": {
    "execution": {
     "iopub.execute_input": "2022-08-23T04:51:51.586563Z",
     "iopub.status.busy": "2022-08-23T04:51:51.586151Z",
     "iopub.status.idle": "2022-08-23T04:51:51.595480Z",
     "shell.execute_reply": "2022-08-23T04:51:51.594330Z"
    },
    "papermill": {
     "duration": 0.035211,
     "end_time": "2022-08-23T04:51:51.597951",
     "exception": false,
     "start_time": "2022-08-23T04:51:51.562740",
     "status": "completed"
    },
    "tags": []
   },
   "outputs": [
    {
     "data": {
      "text/plain": [
       "array(['19-Dec', 'Ready To Move', '18-Feb', '18-Nov', '18-May', '20-Dec',\n",
       "       '17-Oct', '21-Dec', '19-Sep', '20-Sep', '18-Mar', '18-Apr',\n",
       "       '20-Aug', '19-Mar', '17-Sep', '18-Dec', '17-Aug', '19-Apr',\n",
       "       '18-Jun', '22-Dec', '22-Jan', '18-Aug', '19-Jan', '17-Jul',\n",
       "       '18-Jul', '21-Jun', '20-May', '19-Aug', '18-Sep', '17-May',\n",
       "       '17-Jun', '18-Oct', '21-May', '18-Jan', '20-Mar', '17-Dec',\n",
       "       '16-Mar', '19-Jun', '22-Jun', '19-Jul', '21-Feb', '19-May',\n",
       "       '17-Nov', '20-Oct', '20-Jun', '19-Feb', '21-Oct', '21-Jan',\n",
       "       '17-Mar', '17-Apr', '22-May', '19-Oct', '21-Jul', '21-Nov',\n",
       "       '21-Mar', '16-Dec', '22-Mar', '20-Jan', '21-Sep', '21-Aug',\n",
       "       '14-Nov', '19-Nov', '16-Jul', '15-Jun', '20-Nov', '20-Jul',\n",
       "       '16-Sep', '20-Feb', '15-Dec', '16-Oct', '22-Nov', '15-Aug',\n",
       "       '17-Jan', '16-Nov', '20-Apr', '16-Jan', '17-Feb', '14-Jul'],\n",
       "      dtype=object)"
      ]
     },
     "execution_count": 458,
     "metadata": {},
     "output_type": "execute_result"
    }
   ],
   "source": [
    "df[\"availability\"].unique()"
   ]
  },
  {
   "cell_type": "markdown",
   "id": "e686fe5b",
   "metadata": {
    "papermill": {
     "duration": 0.021853,
     "end_time": "2022-08-23T04:51:51.641617",
     "exception": false,
     "start_time": "2022-08-23T04:51:51.619764",
     "status": "completed"
    },
    "tags": []
   },
   "source": [
    "#### Availability doesn't seems to be an important feature. Thus, it can dropped from original DataFrame."
   ]
  },
  {
   "cell_type": "code",
   "execution_count": null,
   "id": "4fec5ba8",
   "metadata": {
    "execution": {
     "iopub.execute_input": "2022-08-23T04:51:51.689002Z",
     "iopub.status.busy": "2022-08-23T04:51:51.688557Z",
     "iopub.status.idle": "2022-08-23T04:51:51.696313Z",
     "shell.execute_reply": "2022-08-23T04:51:51.694812Z"
    },
    "papermill": {
     "duration": 0.034673,
     "end_time": "2022-08-23T04:51:51.698951",
     "exception": false,
     "start_time": "2022-08-23T04:51:51.664278",
     "status": "completed"
    },
    "tags": []
   },
   "outputs": [],
   "source": [
    "df = df.drop([\"availability\"], axis = 1)"
   ]
  },
  {
   "cell_type": "code",
   "execution_count": null,
   "id": "f6f8cbf5",
   "metadata": {
    "execution": {
     "iopub.execute_input": "2022-08-23T04:51:51.744709Z",
     "iopub.status.busy": "2022-08-23T04:51:51.744290Z",
     "iopub.status.idle": "2022-08-23T04:51:51.753179Z",
     "shell.execute_reply": "2022-08-23T04:51:51.751985Z"
    },
    "papermill": {
     "duration": 0.034881,
     "end_time": "2022-08-23T04:51:51.755599",
     "exception": false,
     "start_time": "2022-08-23T04:51:51.720718",
     "status": "completed"
    },
    "tags": []
   },
   "outputs": [
    {
     "data": {
      "text/plain": [
       "array(['Electronic City Phase II', 'Chikka Tirupathi', 'Uttarahalli', ...,\n",
       "       '12th cross srinivas nagar banshankari 3rd stage',\n",
       "       'Havanur extension', 'Abshot Layout'], dtype=object)"
      ]
     },
     "execution_count": 460,
     "metadata": {},
     "output_type": "execute_result"
    }
   ],
   "source": [
    "df[\"location\"].unique()"
   ]
  },
  {
   "cell_type": "code",
   "execution_count": null,
   "id": "2b7b6f4f",
   "metadata": {
    "execution": {
     "iopub.execute_input": "2022-08-23T04:51:51.802060Z",
     "iopub.status.busy": "2022-08-23T04:51:51.801614Z",
     "iopub.status.idle": "2022-08-23T04:51:51.811297Z",
     "shell.execute_reply": "2022-08-23T04:51:51.810198Z"
    },
    "papermill": {
     "duration": 0.03531,
     "end_time": "2022-08-23T04:51:51.813576",
     "exception": false,
     "start_time": "2022-08-23T04:51:51.778266",
     "status": "completed"
    },
    "tags": []
   },
   "outputs": [
    {
     "data": {
      "text/plain": [
       "array(['2 BHK', '4 Bedroom', '3 BHK', '3 Bedroom', '1 BHK', '1 RK',\n",
       "       '4 BHK', '1 Bedroom', '2 Bedroom', '6 Bedroom', '8 Bedroom',\n",
       "       '7 Bedroom', '5 BHK', '7 BHK', '6 BHK', '5 Bedroom', '11 BHK',\n",
       "       '9 BHK', '9 Bedroom', '27 BHK', '11 Bedroom', '43 Bedroom',\n",
       "       '14 BHK', '8 BHK', '12 Bedroom', '10 Bedroom', '13 BHK'],\n",
       "      dtype=object)"
      ]
     },
     "execution_count": 461,
     "metadata": {},
     "output_type": "execute_result"
    }
   ],
   "source": [
    "df[\"size\"].unique()"
   ]
  },
  {
   "cell_type": "markdown",
   "id": "b336cdf3",
   "metadata": {
    "papermill": {
     "duration": 0.022932,
     "end_time": "2022-08-23T04:51:51.858417",
     "exception": false,
     "start_time": "2022-08-23T04:51:51.835485",
     "status": "completed"
    },
    "tags": []
   },
   "source": [
    "#### BHK and Bedroom indicate same feature. Bedroom can be replaced with BHK."
   ]
  },
  {
   "cell_type": "code",
   "execution_count": null,
   "id": "9e75ea91",
   "metadata": {
    "execution": {
     "iopub.execute_input": "2022-08-23T04:51:51.903881Z",
     "iopub.status.busy": "2022-08-23T04:51:51.903495Z",
     "iopub.status.idle": "2022-08-23T04:51:51.918864Z",
     "shell.execute_reply": "2022-08-23T04:51:51.917719Z"
    },
    "papermill": {
     "duration": 0.041603,
     "end_time": "2022-08-23T04:51:51.921766",
     "exception": false,
     "start_time": "2022-08-23T04:51:51.880163",
     "status": "completed"
    },
    "tags": []
   },
   "outputs": [],
   "source": [
    "df[\"size\"] = df[\"size\"].str.replace(\"Bedroom\", \"BHK\")"
   ]
  },
  {
   "cell_type": "code",
   "execution_count": null,
   "id": "dc03f0b7",
   "metadata": {
    "execution": {
     "iopub.execute_input": "2022-08-23T04:51:51.967655Z",
     "iopub.status.busy": "2022-08-23T04:51:51.967254Z",
     "iopub.status.idle": "2022-08-23T04:51:51.976372Z",
     "shell.execute_reply": "2022-08-23T04:51:51.975235Z"
    },
    "papermill": {
     "duration": 0.03469,
     "end_time": "2022-08-23T04:51:51.978636",
     "exception": false,
     "start_time": "2022-08-23T04:51:51.943946",
     "status": "completed"
    },
    "tags": []
   },
   "outputs": [
    {
     "data": {
      "text/plain": [
       "array(['2 BHK', '4 BHK', '3 BHK', '1 BHK', '1 RK', '6 BHK', '8 BHK',\n",
       "       '7 BHK', '5 BHK', '11 BHK', '9 BHK', '27 BHK', '43 BHK', '14 BHK',\n",
       "       '12 BHK', '10 BHK', '13 BHK'], dtype=object)"
      ]
     },
     "execution_count": 463,
     "metadata": {},
     "output_type": "execute_result"
    }
   ],
   "source": [
    "df[\"size\"].unique()"
   ]
  },
  {
   "cell_type": "code",
   "execution_count": null,
   "id": "1930307b",
   "metadata": {
    "execution": {
     "iopub.execute_input": "2022-08-23T04:51:52.025911Z",
     "iopub.status.busy": "2022-08-23T04:51:52.025486Z",
     "iopub.status.idle": "2022-08-23T04:51:52.033528Z",
     "shell.execute_reply": "2022-08-23T04:51:52.032605Z"
    },
    "papermill": {
     "duration": 0.034373,
     "end_time": "2022-08-23T04:51:52.035737",
     "exception": false,
     "start_time": "2022-08-23T04:51:52.001364",
     "status": "completed"
    },
    "tags": []
   },
   "outputs": [
    {
     "data": {
      "text/plain": [
       "array(['1056', '2600', '1440', ..., '1133 - 1384', '774', '4689'],\n",
       "      dtype=object)"
      ]
     },
     "execution_count": 464,
     "metadata": {},
     "output_type": "execute_result"
    }
   ],
   "source": [
    "df[\"total_sqft\"].unique()"
   ]
  },
  {
   "cell_type": "markdown",
   "id": "7fb1df31",
   "metadata": {
    "papermill": {
     "duration": 0.021993,
     "end_time": "2022-08-23T04:51:52.079805",
     "exception": false,
     "start_time": "2022-08-23T04:51:52.057812",
     "status": "completed"
    },
    "tags": []
   },
   "source": [
    "#### Some data exists in form of range of square feet, which can be replaced by mean of those numbers."
   ]
  },
  {
   "cell_type": "code",
   "execution_count": null,
   "id": "b57c7d08",
   "metadata": {
    "execution": {
     "iopub.execute_input": "2022-08-23T04:51:52.125223Z",
     "iopub.status.busy": "2022-08-23T04:51:52.124805Z",
     "iopub.status.idle": "2022-08-23T04:51:52.132747Z",
     "shell.execute_reply": "2022-08-23T04:51:52.131339Z"
    },
    "papermill": {
     "duration": 0.033688,
     "end_time": "2022-08-23T04:51:52.135332",
     "exception": false,
     "start_time": "2022-08-23T04:51:52.101644",
     "status": "completed"
    },
    "tags": []
   },
   "outputs": [],
   "source": [
    "df[\"total_sqft\"]= df[\"total_sqft\"].astype(str)"
   ]
  },
  {
   "cell_type": "code",
   "execution_count": null,
   "id": "58d49c89",
   "metadata": {
    "execution": {
     "iopub.execute_input": "2022-08-23T04:51:52.183144Z",
     "iopub.status.busy": "2022-08-23T04:51:52.182695Z",
     "iopub.status.idle": "2022-08-23T04:51:52.189174Z",
     "shell.execute_reply": "2022-08-23T04:51:52.187976Z"
    },
    "papermill": {
     "duration": 0.033259,
     "end_time": "2022-08-23T04:51:52.191578",
     "exception": false,
     "start_time": "2022-08-23T04:51:52.158319",
     "status": "completed"
    },
    "tags": []
   },
   "outputs": [],
   "source": [
    "def sqft(x):\n",
    "    y = x.split(\"-\")\n",
    "    if len(y) == 2:\n",
    "        return (float(y[0])+float(y[1]))/2\n",
    "    elif len(y) == 1:\n",
    "        return x\n",
    "    else:\n",
    "        return None"
   ]
  },
  {
   "cell_type": "code",
   "execution_count": null,
   "id": "e5a9ae33",
   "metadata": {
    "execution": {
     "iopub.execute_input": "2022-08-23T04:51:52.237809Z",
     "iopub.status.busy": "2022-08-23T04:51:52.237259Z",
     "iopub.status.idle": "2022-08-23T04:51:52.249756Z",
     "shell.execute_reply": "2022-08-23T04:51:52.248909Z"
    },
    "papermill": {
     "duration": 0.038125,
     "end_time": "2022-08-23T04:51:52.251844",
     "exception": false,
     "start_time": "2022-08-23T04:51:52.213719",
     "status": "completed"
    },
    "tags": []
   },
   "outputs": [],
   "source": [
    "df[\"total_sqft\"] = df[\"total_sqft\"].apply(sqft)"
   ]
  },
  {
   "cell_type": "code",
   "execution_count": null,
   "id": "bf395c16",
   "metadata": {
    "execution": {
     "iopub.execute_input": "2022-08-23T04:51:52.298461Z",
     "iopub.status.busy": "2022-08-23T04:51:52.297964Z",
     "iopub.status.idle": "2022-08-23T04:51:52.307095Z",
     "shell.execute_reply": "2022-08-23T04:51:52.305869Z"
    },
    "papermill": {
     "duration": 0.035428,
     "end_time": "2022-08-23T04:51:52.309395",
     "exception": false,
     "start_time": "2022-08-23T04:51:52.273967",
     "status": "completed"
    },
    "tags": []
   },
   "outputs": [
    {
     "data": {
      "text/plain": [
       "array(['1056', '2600', '1440', ..., 1258.5, '774', '4689'], dtype=object)"
      ]
     },
     "execution_count": 468,
     "metadata": {},
     "output_type": "execute_result"
    }
   ],
   "source": [
    "df[\"total_sqft\"].unique()"
   ]
  },
  {
   "cell_type": "code",
   "execution_count": null,
   "id": "28d2193c",
   "metadata": {
    "execution": {
     "iopub.execute_input": "2022-08-23T04:51:52.355626Z",
     "iopub.status.busy": "2022-08-23T04:51:52.355176Z",
     "iopub.status.idle": "2022-08-23T04:51:52.373404Z",
     "shell.execute_reply": "2022-08-23T04:51:52.370540Z"
    },
    "papermill": {
     "duration": 0.045673,
     "end_time": "2022-08-23T04:51:52.377231",
     "exception": false,
     "start_time": "2022-08-23T04:51:52.331558",
     "status": "completed"
    },
    "tags": []
   },
   "outputs": [
    {
     "name": "stdout",
     "output_type": "stream",
     "text": [
      "<class 'pandas.core.frame.DataFrame'>\n",
      "Index: 12710 entries, 0 to 13319\n",
      "Data columns (total 7 columns):\n",
      " #   Column      Non-Null Count  Dtype  \n",
      "---  ------      --------------  -----  \n",
      " 0   area_type   12710 non-null  object \n",
      " 1   location    12710 non-null  object \n",
      " 2   size        12710 non-null  object \n",
      " 3   total_sqft  12710 non-null  object \n",
      " 4   bath        12710 non-null  float64\n",
      " 5   balcony     12710 non-null  float64\n",
      " 6   price       12710 non-null  float64\n",
      "dtypes: float64(3), object(4)\n",
      "memory usage: 794.4+ KB\n"
     ]
    }
   ],
   "source": [
    "df.info()"
   ]
  },
  {
   "cell_type": "code",
   "execution_count": null,
   "id": "db4b6904",
   "metadata": {
    "execution": {
     "iopub.execute_input": "2022-08-23T04:51:52.425116Z",
     "iopub.status.busy": "2022-08-23T04:51:52.424697Z",
     "iopub.status.idle": "2022-08-23T04:51:52.493971Z",
     "shell.execute_reply": "2022-08-23T04:51:52.492244Z"
    },
    "papermill": {
     "duration": 0.096073,
     "end_time": "2022-08-23T04:51:52.496811",
     "exception": false,
     "start_time": "2022-08-23T04:51:52.400738",
     "status": "completed"
    },
    "tags": []
   },
   "outputs": [],
   "source": [
    "df[\"total_sqft\"]= df[\"total_sqft\"].str.replace(\"Sq. Meter\", \"\")\n",
    "df[\"total_sqft\"]= df[\"total_sqft\"].str.replace(\"Acres\", \"\")\n",
    "df[\"total_sqft\"]= df[\"total_sqft\"].str.replace(\"Sq. Yard\", \"\")\n",
    "df[\"total_sqft\"]= df[\"total_sqft\"].str.replace(\"s\", \"\")\n",
    "df[\"total_sqft\"]= df[\"total_sqft\"].str.replace(\"Cent\", \"\")\n",
    "df[\"total_sqft\"]= df[\"total_sqft\"].str.replace(\"Guntha\", \"\")\n",
    "df[\"total_sqft\"]= df[\"total_sqft\"].str.replace(\"Ground\", \"\")"
   ]
  },
  {
   "cell_type": "code",
   "execution_count": null,
   "id": "2e80b75b",
   "metadata": {
    "execution": {
     "iopub.execute_input": "2022-08-23T04:51:52.543370Z",
     "iopub.status.busy": "2022-08-23T04:51:52.542929Z",
     "iopub.status.idle": "2022-08-23T04:51:52.550385Z",
     "shell.execute_reply": "2022-08-23T04:51:52.549537Z"
    },
    "papermill": {
     "duration": 0.033605,
     "end_time": "2022-08-23T04:51:52.552779",
     "exception": false,
     "start_time": "2022-08-23T04:51:52.519174",
     "status": "completed"
    },
    "tags": []
   },
   "outputs": [],
   "source": [
    "df[\"total_sqft\"]= df[\"total_sqft\"].astype(float)"
   ]
  },
  {
   "cell_type": "code",
   "execution_count": null,
   "id": "1b86b138",
   "metadata": {
    "execution": {
     "iopub.execute_input": "2022-08-23T04:51:52.599493Z",
     "iopub.status.busy": "2022-08-23T04:51:52.599077Z",
     "iopub.status.idle": "2022-08-23T04:51:52.607143Z",
     "shell.execute_reply": "2022-08-23T04:51:52.606019Z"
    },
    "papermill": {
     "duration": 0.034174,
     "end_time": "2022-08-23T04:51:52.609407",
     "exception": false,
     "start_time": "2022-08-23T04:51:52.575233",
     "status": "completed"
    },
    "tags": []
   },
   "outputs": [
    {
     "data": {
      "text/plain": [
       "array([ 2.,  5.,  3.,  4.,  1.,  8.,  7.,  6.,  9., 27., 11., 12., 10.,\n",
       "       40., 15., 13.])"
      ]
     },
     "execution_count": 472,
     "metadata": {},
     "output_type": "execute_result"
    }
   ],
   "source": [
    "df[\"bath\"].unique()"
   ]
  },
  {
   "cell_type": "code",
   "execution_count": null,
   "id": "bf7169c7",
   "metadata": {
    "execution": {
     "iopub.execute_input": "2022-08-23T04:51:52.656446Z",
     "iopub.status.busy": "2022-08-23T04:51:52.655989Z",
     "iopub.status.idle": "2022-08-23T04:51:52.664293Z",
     "shell.execute_reply": "2022-08-23T04:51:52.663047Z"
    },
    "papermill": {
     "duration": 0.034367,
     "end_time": "2022-08-23T04:51:52.666578",
     "exception": false,
     "start_time": "2022-08-23T04:51:52.632211",
     "status": "completed"
    },
    "tags": []
   },
   "outputs": [
    {
     "data": {
      "text/plain": [
       "array([1., 3., 2., 0.])"
      ]
     },
     "execution_count": 473,
     "metadata": {},
     "output_type": "execute_result"
    }
   ],
   "source": [
    "df[\"balcony\"].unique()"
   ]
  },
  {
   "cell_type": "markdown",
   "id": "aa5f6f5a",
   "metadata": {
    "papermill": {
     "duration": 0.022196,
     "end_time": "2022-08-23T04:51:52.711344",
     "exception": false,
     "start_time": "2022-08-23T04:51:52.689148",
     "status": "completed"
    },
    "tags": []
   },
   "source": [
    "### Deriving new feature"
   ]
  },
  {
   "cell_type": "code",
   "execution_count": null,
   "id": "d6caeb6e",
   "metadata": {
    "execution": {
     "iopub.execute_input": "2022-08-23T04:51:52.758436Z",
     "iopub.status.busy": "2022-08-23T04:51:52.758012Z",
     "iopub.status.idle": "2022-08-23T04:51:52.776215Z",
     "shell.execute_reply": "2022-08-23T04:51:52.775415Z"
    },
    "papermill": {
     "duration": 0.044468,
     "end_time": "2022-08-23T04:51:52.778309",
     "exception": false,
     "start_time": "2022-08-23T04:51:52.733841",
     "status": "completed"
    },
    "tags": []
   },
   "outputs": [
    {
     "data": {
      "text/html": [
       "<div>\n",
       "<style scoped>\n",
       "    .dataframe tbody tr th:only-of-type {\n",
       "        vertical-align: middle;\n",
       "    }\n",
       "\n",
       "    .dataframe tbody tr th {\n",
       "        vertical-align: top;\n",
       "    }\n",
       "\n",
       "    .dataframe thead th {\n",
       "        text-align: right;\n",
       "    }\n",
       "</style>\n",
       "<table border=\"1\" class=\"dataframe\">\n",
       "  <thead>\n",
       "    <tr style=\"text-align: right;\">\n",
       "      <th></th>\n",
       "      <th>area_type</th>\n",
       "      <th>location</th>\n",
       "      <th>size</th>\n",
       "      <th>total_sqft</th>\n",
       "      <th>bath</th>\n",
       "      <th>balcony</th>\n",
       "      <th>price</th>\n",
       "      <th>price_per_sqft</th>\n",
       "    </tr>\n",
       "  </thead>\n",
       "  <tbody>\n",
       "    <tr>\n",
       "      <th>0</th>\n",
       "      <td>Super built-up  Area</td>\n",
       "      <td>Electronic City Phase II</td>\n",
       "      <td>2 BHK</td>\n",
       "      <td>1056.0</td>\n",
       "      <td>2.0</td>\n",
       "      <td>1.0</td>\n",
       "      <td>39.07</td>\n",
       "      <td>3699.810606</td>\n",
       "    </tr>\n",
       "    <tr>\n",
       "      <th>1</th>\n",
       "      <td>Plot  Area</td>\n",
       "      <td>Chikka Tirupathi</td>\n",
       "      <td>4 BHK</td>\n",
       "      <td>2600.0</td>\n",
       "      <td>5.0</td>\n",
       "      <td>3.0</td>\n",
       "      <td>120.00</td>\n",
       "      <td>4615.384615</td>\n",
       "    </tr>\n",
       "    <tr>\n",
       "      <th>2</th>\n",
       "      <td>Built-up  Area</td>\n",
       "      <td>Uttarahalli</td>\n",
       "      <td>3 BHK</td>\n",
       "      <td>1440.0</td>\n",
       "      <td>2.0</td>\n",
       "      <td>3.0</td>\n",
       "      <td>62.00</td>\n",
       "      <td>4305.555556</td>\n",
       "    </tr>\n",
       "    <tr>\n",
       "      <th>3</th>\n",
       "      <td>Super built-up  Area</td>\n",
       "      <td>Lingadheeranahalli</td>\n",
       "      <td>3 BHK</td>\n",
       "      <td>1521.0</td>\n",
       "      <td>3.0</td>\n",
       "      <td>1.0</td>\n",
       "      <td>95.00</td>\n",
       "      <td>6245.890861</td>\n",
       "    </tr>\n",
       "    <tr>\n",
       "      <th>4</th>\n",
       "      <td>Super built-up  Area</td>\n",
       "      <td>Kothanur</td>\n",
       "      <td>2 BHK</td>\n",
       "      <td>1200.0</td>\n",
       "      <td>2.0</td>\n",
       "      <td>1.0</td>\n",
       "      <td>51.00</td>\n",
       "      <td>4250.000000</td>\n",
       "    </tr>\n",
       "  </tbody>\n",
       "</table>\n",
       "</div>"
      ],
      "text/plain": [
       "              area_type                  location   size  total_sqft  bath  \\\n",
       "0  Super built-up  Area  Electronic City Phase II  2 BHK      1056.0   2.0   \n",
       "1            Plot  Area          Chikka Tirupathi  4 BHK      2600.0   5.0   \n",
       "2        Built-up  Area               Uttarahalli  3 BHK      1440.0   2.0   \n",
       "3  Super built-up  Area        Lingadheeranahalli  3 BHK      1521.0   3.0   \n",
       "4  Super built-up  Area                  Kothanur  2 BHK      1200.0   2.0   \n",
       "\n",
       "   balcony   price  price_per_sqft  \n",
       "0      1.0   39.07     3699.810606  \n",
       "1      3.0  120.00     4615.384615  \n",
       "2      3.0   62.00     4305.555556  \n",
       "3      1.0   95.00     6245.890861  \n",
       "4      1.0   51.00     4250.000000  "
      ]
     },
     "execution_count": 474,
     "metadata": {},
     "output_type": "execute_result"
    }
   ],
   "source": [
    "df[\"price_per_sqft\"] = df[\"price\"]*100000/df[\"total_sqft\"]\n",
    "df.head()"
   ]
  },
  {
   "cell_type": "code",
   "execution_count": null,
   "id": "e2f26b05",
   "metadata": {
    "execution": {
     "iopub.execute_input": "2022-08-23T04:51:52.826907Z",
     "iopub.status.busy": "2022-08-23T04:51:52.826459Z",
     "iopub.status.idle": "2022-08-23T04:51:52.834360Z",
     "shell.execute_reply": "2022-08-23T04:51:52.833182Z"
    },
    "papermill": {
     "duration": 0.034912,
     "end_time": "2022-08-23T04:51:52.836948",
     "exception": false,
     "start_time": "2022-08-23T04:51:52.802036",
     "status": "completed"
    },
    "tags": []
   },
   "outputs": [],
   "source": [
    "df = df.reset_index(drop=True)"
   ]
  },
  {
   "cell_type": "markdown",
   "id": "ff1440fa",
   "metadata": {
    "papermill": {
     "duration": 0.02244,
     "end_time": "2022-08-23T04:51:52.882110",
     "exception": false,
     "start_time": "2022-08-23T04:51:52.859670",
     "status": "completed"
    },
    "tags": []
   },
   "source": [
    "## Visualisation"
   ]
  },
  {
   "cell_type": "code",
   "execution_count": null,
   "id": "8a45958e",
   "metadata": {
    "execution": {
     "iopub.execute_input": "2022-08-23T04:51:52.929401Z",
     "iopub.status.busy": "2022-08-23T04:51:52.928960Z",
     "iopub.status.idle": "2022-08-23T04:51:52.946040Z",
     "shell.execute_reply": "2022-08-23T04:51:52.944850Z"
    },
    "papermill": {
     "duration": 0.043636,
     "end_time": "2022-08-23T04:51:52.948355",
     "exception": false,
     "start_time": "2022-08-23T04:51:52.904719",
     "status": "completed"
    },
    "tags": []
   },
   "outputs": [
    {
     "data": {
      "text/html": [
       "<div>\n",
       "<style scoped>\n",
       "    .dataframe tbody tr th:only-of-type {\n",
       "        vertical-align: middle;\n",
       "    }\n",
       "\n",
       "    .dataframe tbody tr th {\n",
       "        vertical-align: top;\n",
       "    }\n",
       "\n",
       "    .dataframe thead th {\n",
       "        text-align: right;\n",
       "    }\n",
       "</style>\n",
       "<table border=\"1\" class=\"dataframe\">\n",
       "  <thead>\n",
       "    <tr style=\"text-align: right;\">\n",
       "      <th></th>\n",
       "      <th>area_type</th>\n",
       "      <th>location</th>\n",
       "      <th>size</th>\n",
       "      <th>total_sqft</th>\n",
       "      <th>bath</th>\n",
       "      <th>balcony</th>\n",
       "      <th>price</th>\n",
       "      <th>price_per_sqft</th>\n",
       "    </tr>\n",
       "  </thead>\n",
       "  <tbody>\n",
       "    <tr>\n",
       "      <th>0</th>\n",
       "      <td>Super built-up  Area</td>\n",
       "      <td>Electronic City Phase II</td>\n",
       "      <td>2 BHK</td>\n",
       "      <td>1056.0</td>\n",
       "      <td>2.0</td>\n",
       "      <td>1.0</td>\n",
       "      <td>39.07</td>\n",
       "      <td>3699.810606</td>\n",
       "    </tr>\n",
       "    <tr>\n",
       "      <th>1</th>\n",
       "      <td>Plot  Area</td>\n",
       "      <td>Chikka Tirupathi</td>\n",
       "      <td>4 BHK</td>\n",
       "      <td>2600.0</td>\n",
       "      <td>5.0</td>\n",
       "      <td>3.0</td>\n",
       "      <td>120.00</td>\n",
       "      <td>4615.384615</td>\n",
       "    </tr>\n",
       "    <tr>\n",
       "      <th>2</th>\n",
       "      <td>Built-up  Area</td>\n",
       "      <td>Uttarahalli</td>\n",
       "      <td>3 BHK</td>\n",
       "      <td>1440.0</td>\n",
       "      <td>2.0</td>\n",
       "      <td>3.0</td>\n",
       "      <td>62.00</td>\n",
       "      <td>4305.555556</td>\n",
       "    </tr>\n",
       "    <tr>\n",
       "      <th>3</th>\n",
       "      <td>Super built-up  Area</td>\n",
       "      <td>Lingadheeranahalli</td>\n",
       "      <td>3 BHK</td>\n",
       "      <td>1521.0</td>\n",
       "      <td>3.0</td>\n",
       "      <td>1.0</td>\n",
       "      <td>95.00</td>\n",
       "      <td>6245.890861</td>\n",
       "    </tr>\n",
       "    <tr>\n",
       "      <th>4</th>\n",
       "      <td>Super built-up  Area</td>\n",
       "      <td>Kothanur</td>\n",
       "      <td>2 BHK</td>\n",
       "      <td>1200.0</td>\n",
       "      <td>2.0</td>\n",
       "      <td>1.0</td>\n",
       "      <td>51.00</td>\n",
       "      <td>4250.000000</td>\n",
       "    </tr>\n",
       "    <tr>\n",
       "      <th>5</th>\n",
       "      <td>Super built-up  Area</td>\n",
       "      <td>Whitefield</td>\n",
       "      <td>2 BHK</td>\n",
       "      <td>1170.0</td>\n",
       "      <td>2.0</td>\n",
       "      <td>1.0</td>\n",
       "      <td>38.00</td>\n",
       "      <td>3247.863248</td>\n",
       "    </tr>\n",
       "    <tr>\n",
       "      <th>6</th>\n",
       "      <td>Super built-up  Area</td>\n",
       "      <td>Marathahalli</td>\n",
       "      <td>3 BHK</td>\n",
       "      <td>1310.0</td>\n",
       "      <td>3.0</td>\n",
       "      <td>1.0</td>\n",
       "      <td>63.25</td>\n",
       "      <td>4828.244275</td>\n",
       "    </tr>\n",
       "    <tr>\n",
       "      <th>7</th>\n",
       "      <td>Super built-up  Area</td>\n",
       "      <td>Whitefield</td>\n",
       "      <td>3 BHK</td>\n",
       "      <td>1800.0</td>\n",
       "      <td>2.0</td>\n",
       "      <td>2.0</td>\n",
       "      <td>70.00</td>\n",
       "      <td>3888.888889</td>\n",
       "    </tr>\n",
       "    <tr>\n",
       "      <th>8</th>\n",
       "      <td>Plot  Area</td>\n",
       "      <td>Whitefield</td>\n",
       "      <td>4 BHK</td>\n",
       "      <td>2785.0</td>\n",
       "      <td>5.0</td>\n",
       "      <td>3.0</td>\n",
       "      <td>295.00</td>\n",
       "      <td>10592.459605</td>\n",
       "    </tr>\n",
       "    <tr>\n",
       "      <th>9</th>\n",
       "      <td>Super built-up  Area</td>\n",
       "      <td>7th Phase JP Nagar</td>\n",
       "      <td>2 BHK</td>\n",
       "      <td>1000.0</td>\n",
       "      <td>2.0</td>\n",
       "      <td>1.0</td>\n",
       "      <td>38.00</td>\n",
       "      <td>3800.000000</td>\n",
       "    </tr>\n",
       "    <tr>\n",
       "      <th>10</th>\n",
       "      <td>Built-up  Area</td>\n",
       "      <td>Gottigere</td>\n",
       "      <td>2 BHK</td>\n",
       "      <td>1100.0</td>\n",
       "      <td>2.0</td>\n",
       "      <td>2.0</td>\n",
       "      <td>40.00</td>\n",
       "      <td>3636.363636</td>\n",
       "    </tr>\n",
       "    <tr>\n",
       "      <th>11</th>\n",
       "      <td>Plot  Area</td>\n",
       "      <td>Sarjapur</td>\n",
       "      <td>3 BHK</td>\n",
       "      <td>2250.0</td>\n",
       "      <td>3.0</td>\n",
       "      <td>2.0</td>\n",
       "      <td>148.00</td>\n",
       "      <td>6577.777778</td>\n",
       "    </tr>\n",
       "    <tr>\n",
       "      <th>12</th>\n",
       "      <td>Super built-up  Area</td>\n",
       "      <td>Mysore Road</td>\n",
       "      <td>2 BHK</td>\n",
       "      <td>1175.0</td>\n",
       "      <td>2.0</td>\n",
       "      <td>2.0</td>\n",
       "      <td>73.50</td>\n",
       "      <td>6255.319149</td>\n",
       "    </tr>\n",
       "    <tr>\n",
       "      <th>13</th>\n",
       "      <td>Super built-up  Area</td>\n",
       "      <td>Bisuvanahalli</td>\n",
       "      <td>3 BHK</td>\n",
       "      <td>1180.0</td>\n",
       "      <td>3.0</td>\n",
       "      <td>2.0</td>\n",
       "      <td>48.00</td>\n",
       "      <td>4067.796610</td>\n",
       "    </tr>\n",
       "    <tr>\n",
       "      <th>14</th>\n",
       "      <td>Super built-up  Area</td>\n",
       "      <td>Raja Rajeshwari Nagar</td>\n",
       "      <td>3 BHK</td>\n",
       "      <td>1540.0</td>\n",
       "      <td>3.0</td>\n",
       "      <td>3.0</td>\n",
       "      <td>60.00</td>\n",
       "      <td>3896.103896</td>\n",
       "    </tr>\n",
       "  </tbody>\n",
       "</table>\n",
       "</div>"
      ],
      "text/plain": [
       "               area_type                  location   size  total_sqft  bath  \\\n",
       "0   Super built-up  Area  Electronic City Phase II  2 BHK      1056.0   2.0   \n",
       "1             Plot  Area          Chikka Tirupathi  4 BHK      2600.0   5.0   \n",
       "2         Built-up  Area               Uttarahalli  3 BHK      1440.0   2.0   \n",
       "3   Super built-up  Area        Lingadheeranahalli  3 BHK      1521.0   3.0   \n",
       "4   Super built-up  Area                  Kothanur  2 BHK      1200.0   2.0   \n",
       "5   Super built-up  Area                Whitefield  2 BHK      1170.0   2.0   \n",
       "6   Super built-up  Area              Marathahalli  3 BHK      1310.0   3.0   \n",
       "7   Super built-up  Area                Whitefield  3 BHK      1800.0   2.0   \n",
       "8             Plot  Area                Whitefield  4 BHK      2785.0   5.0   \n",
       "9   Super built-up  Area        7th Phase JP Nagar  2 BHK      1000.0   2.0   \n",
       "10        Built-up  Area                 Gottigere  2 BHK      1100.0   2.0   \n",
       "11            Plot  Area                  Sarjapur  3 BHK      2250.0   3.0   \n",
       "12  Super built-up  Area               Mysore Road  2 BHK      1175.0   2.0   \n",
       "13  Super built-up  Area             Bisuvanahalli  3 BHK      1180.0   3.0   \n",
       "14  Super built-up  Area     Raja Rajeshwari Nagar  3 BHK      1540.0   3.0   \n",
       "\n",
       "    balcony   price  price_per_sqft  \n",
       "0       1.0   39.07     3699.810606  \n",
       "1       3.0  120.00     4615.384615  \n",
       "2       3.0   62.00     4305.555556  \n",
       "3       1.0   95.00     6245.890861  \n",
       "4       1.0   51.00     4250.000000  \n",
       "5       1.0   38.00     3247.863248  \n",
       "6       1.0   63.25     4828.244275  \n",
       "7       2.0   70.00     3888.888889  \n",
       "8       3.0  295.00    10592.459605  \n",
       "9       1.0   38.00     3800.000000  \n",
       "10      2.0   40.00     3636.363636  \n",
       "11      2.0  148.00     6577.777778  \n",
       "12      2.0   73.50     6255.319149  \n",
       "13      2.0   48.00     4067.796610  \n",
       "14      3.0   60.00     3896.103896  "
      ]
     },
     "execution_count": 476,
     "metadata": {},
     "output_type": "execute_result"
    }
   ],
   "source": [
    "df.head(15)"
   ]
  },
  {
   "cell_type": "code",
   "execution_count": null,
   "id": "7bbd4b4c",
   "metadata": {
    "execution": {
     "iopub.execute_input": "2022-08-23T04:51:52.996959Z",
     "iopub.status.busy": "2022-08-23T04:51:52.996236Z",
     "iopub.status.idle": "2022-08-23T04:51:53.269347Z",
     "shell.execute_reply": "2022-08-23T04:51:53.268208Z"
    },
    "papermill": {
     "duration": 0.300897,
     "end_time": "2022-08-23T04:51:53.272264",
     "exception": false,
     "start_time": "2022-08-23T04:51:52.971367",
     "status": "completed"
    },
    "tags": []
   },
   "outputs": [
    {
     "name": "stderr",
     "output_type": "stream",
     "text": [
      "C:\\Users\\Aakash\\anaconda3\\Lib\\site-packages\\seaborn\\_oldcore.py:1119: FutureWarning: use_inf_as_na option is deprecated and will be removed in a future version. Convert inf values to NaN before operating instead.\n",
      "  with pd.option_context('mode.use_inf_as_na', True):\n"
     ]
    },
    {
     "data": {
      "image/png": "[encoded data removed]",
      "text/plain": [
       "<Figure size 640x480 with 1 Axes>"
      ]
     },
     "metadata": {},
     "output_type": "display_data"
    }
   ],
   "source": [
    "sns.histplot(df.area_type, color = \"green\")\n",
    "plt.show()"
   ]
  },
  {
   "cell_type": "code",
   "execution_count": null,
   "id": "604d2e5b",
   "metadata": {
    "execution": {
     "iopub.execute_input": "2022-08-23T04:51:53.321757Z",
     "iopub.status.busy": "2022-08-23T04:51:53.321367Z",
     "iopub.status.idle": "2022-08-23T04:51:54.072383Z",
     "shell.execute_reply": "2022-08-23T04:51:54.071167Z"
    },
    "papermill": {
     "duration": 0.77857,
     "end_time": "2022-08-23T04:51:54.075183",
     "exception": false,
     "start_time": "2022-08-23T04:51:53.296613",
     "status": "completed"
    },
    "tags": []
   },
   "outputs": [
    {
     "name": "stderr",
     "output_type": "stream",
     "text": [
      "C:\\Users\\Aakash\\anaconda3\\Lib\\site-packages\\seaborn\\categorical.py:1794: FutureWarning: use_inf_as_na option is deprecated and will be removed in a future version. Convert inf values to NaN before operating instead.\n",
      "  with pd.option_context('mode.use_inf_as_na', True):\n"
     ]
    },
    {
     "data": {
      "image/png": "[encoded data removed]",
      "text/plain": [
       "<Figure size 900x600 with 1 Axes>"
      ]
     },
     "metadata": {},
     "output_type": "display_data"
    },
    {
     "name": "stderr",
     "output_type": "stream",
     "text": [
      "C:\\Users\\Aakash\\anaconda3\\Lib\\site-packages\\seaborn\\categorical.py:1794: FutureWarning: use_inf_as_na option is deprecated and will be removed in a future version. Convert inf values to NaN before operating instead.\n",
      "  with pd.option_context('mode.use_inf_as_na', True):\n"
     ]
    },
    {
     "data": {
      "image/png": "[encoded data removed]",
      "text/plain": [
       "<Figure size 900x600 with 1 Axes>"
      ]
     },
     "metadata": {},
     "output_type": "display_data"
    },
    {
     "name": "stderr",
     "output_type": "stream",
     "text": [
      "C:\\Users\\Aakash\\anaconda3\\Lib\\site-packages\\seaborn\\categorical.py:1794: FutureWarning: use_inf_as_na option is deprecated and will be removed in a future version. Convert inf values to NaN before operating instead.\n",
      "  with pd.option_context('mode.use_inf_as_na', True):\n"
     ]
    },
    {
     "data": {
      "image/png": "[encoded data removed]",
      "text/plain": [
       "<Figure size 900x600 with 1 Axes>"
      ]
     },
     "metadata": {},
     "output_type": "display_data"
    },
    {
     "name": "stderr",
     "output_type": "stream",
     "text": [
      "C:\\Users\\Aakash\\anaconda3\\Lib\\site-packages\\seaborn\\categorical.py:1794: FutureWarning: use_inf_as_na option is deprecated and will be removed in a future version. Convert inf values to NaN before operating instead.\n",
      "  with pd.option_context('mode.use_inf_as_na', True):\n"
     ]
    },
    {
     "data": {
      "image/png": "[encoded data removed]",
      "text/plain": [
       "<Figure size 900x600 with 1 Axes>"
      ]
     },
     "metadata": {},
     "output_type": "display_data"
    }
   ],
   "source": [
    "for col in [\"total_sqft\", \"bath\", \"balcony\", \"price_per_sqft\"]:\n",
    "    plt.figure(figsize=(9,6));\n",
    "    sns.boxenplot(y=col,data=df,palette='summer');\n",
    "    plt.title(f'Outliers in {col}',fontsize=25,fontweight=5);\n",
    "    plt.show()"
   ]
  },
  {
   "cell_type": "markdown",
   "id": "cccd86b6",
   "metadata": {
    "papermill": {
     "duration": 0.02497,
     "end_time": "2022-08-23T04:51:54.125672",
     "exception": false,
     "start_time": "2022-08-23T04:51:54.100702",
     "status": "completed"
    },
    "tags": []
   },
   "source": [
    "#### As we can see there are outliers present in total_sqft, bath and price_per_sqft which must be removed."
   ]
  },
  {
   "cell_type": "code",
   "execution_count": null,
   "id": "7391d736",
   "metadata": {
    "execution": {
     "iopub.execute_input": "2022-08-23T04:51:54.175860Z",
     "iopub.status.busy": "2022-08-23T04:51:54.175419Z",
     "iopub.status.idle": "2022-08-23T04:51:54.185229Z",
     "shell.execute_reply": "2022-08-23T04:51:54.182598Z"
    },
    "papermill": {
     "duration": 0.038173,
     "end_time": "2022-08-23T04:51:54.187925",
     "exception": false,
     "start_time": "2022-08-23T04:51:54.149752",
     "status": "completed"
    },
    "tags": []
   },
   "outputs": [
    {
     "name": "stdout",
     "output_type": "stream",
     "text": [
      "(array([   55,   333,   390,   392,   419,   492,   501,   577,   641,\n",
      "         706,   771,   967,   968,  1030,  1062,  1093,  1173,  1634,\n",
      "        1794,  1921,  2002,  2489,  2682,  2740,  2880,  2984,  2995,\n",
      "        3008,  3023,  4021,  4084,  4555,  4714,  4723,  5121,  5179,\n",
      "        5194,  5382,  5671,  5677,  5990,  6018,  6022,  6223,  6499,\n",
      "        6681,  6736,  6758,  6805,  6884,  6954,  6973,  7231,  7344,\n",
      "        7379,  7439,  7469,  7507,  7761,  7783,  7829,  8119,  8209,\n",
      "        8245,  8302,  8513,  8730,  8782,  8786,  8890,  8963,  8978,\n",
      "        9132,  9264,  9331,  9396,  9410,  9456,  9585,  9593,  9816,\n",
      "        9936,  9993,  9996, 10240, 10558, 10617, 10788, 10903, 11015,\n",
      "       11032, 11068, 11214, 11306, 11358, 11437, 11673, 11695, 11791,\n",
      "       11804, 11903, 11998, 12111, 12396, 12498, 12522, 12600, 12624],\n",
      "      dtype=int64),)\n"
     ]
    }
   ],
   "source": [
    "print(np.where((df[\"total_sqft\"]<100) | (df['total_sqft']>5000)))"
   ]
  },
  {
   "cell_type": "markdown",
   "id": "c1df905a",
   "metadata": {
    "papermill": {
     "duration": 0.037373,
     "end_time": "2022-08-23T04:51:54.249705",
     "exception": false,
     "start_time": "2022-08-23T04:51:54.212332",
     "status": "completed"
    },
    "tags": []
   },
   "source": [
    "#### House with size less than 100 and more than 5000 square feet is impractical. Thus, such outliers will be removed."
   ]
  },
  {
   "cell_type": "code",
   "execution_count": null,
   "id": "a4915868",
   "metadata": {
    "execution": {
     "iopub.execute_input": "2022-08-23T04:51:54.300617Z",
     "iopub.status.busy": "2022-08-23T04:51:54.300221Z",
     "iopub.status.idle": "2022-08-23T04:51:54.308004Z",
     "shell.execute_reply": "2022-08-23T04:51:54.306835Z"
    },
    "papermill": {
     "duration": 0.035848,
     "end_time": "2022-08-23T04:51:54.310283",
     "exception": false,
     "start_time": "2022-08-23T04:51:54.274435",
     "status": "completed"
    },
    "tags": []
   },
   "outputs": [],
   "source": [
    "df = df[(df[\"total_sqft\"] >= 100) | (df[\"total_sqft\"] <= 5000)]"
   ]
  },
  {
   "cell_type": "markdown",
   "id": "875b269d",
   "metadata": {
    "papermill": {
     "duration": 0.023594,
     "end_time": "2022-08-23T04:51:54.357835",
     "exception": false,
     "start_time": "2022-08-23T04:51:54.334241",
     "status": "completed"
    },
    "tags": []
   },
   "source": [
    "#### Houses with more than 10 bathrooms are acting as outliers."
   ]
  },
  {
   "cell_type": "code",
   "execution_count": null,
   "id": "77e64986",
   "metadata": {
    "execution": {
     "iopub.execute_input": "2022-08-23T04:51:54.408343Z",
     "iopub.status.busy": "2022-08-23T04:51:54.407937Z",
     "iopub.status.idle": "2022-08-23T04:51:54.415737Z",
     "shell.execute_reply": "2022-08-23T04:51:54.413935Z"
    },
    "papermill": {
     "duration": 0.036265,
     "end_time": "2022-08-23T04:51:54.418063",
     "exception": false,
     "start_time": "2022-08-23T04:51:54.381798",
     "status": "completed"
    },
    "tags": []
   },
   "outputs": [
    {
     "name": "stdout",
     "output_type": "stream",
     "text": [
      "(array([    0,     1,     2, ..., 12563, 12564, 12565], dtype=int64),)\n"
     ]
    }
   ],
   "source": [
    "print(np.where(df[\"bath\"]<10))"
   ]
  },
  {
   "cell_type": "code",
   "execution_count": null,
   "id": "08aee684",
   "metadata": {
    "execution": {
     "iopub.execute_input": "2022-08-23T04:51:54.468044Z",
     "iopub.status.busy": "2022-08-23T04:51:54.467574Z",
     "iopub.status.idle": "2022-08-23T04:51:54.475060Z",
     "shell.execute_reply": "2022-08-23T04:51:54.473875Z"
    },
    "papermill": {
     "duration": 0.035202,
     "end_time": "2022-08-23T04:51:54.477478",
     "exception": false,
     "start_time": "2022-08-23T04:51:54.442276",
     "status": "completed"
    },
    "tags": []
   },
   "outputs": [],
   "source": [
    "df = df[(df[\"bath\"] <= 10)]"
   ]
  },
  {
   "cell_type": "code",
   "execution_count": null,
   "id": "fcb7f159",
   "metadata": {
    "execution": {
     "iopub.execute_input": "2022-08-23T04:51:54.528046Z",
     "iopub.status.busy": "2022-08-23T04:51:54.527593Z",
     "iopub.status.idle": "2022-08-23T04:51:54.536260Z",
     "shell.execute_reply": "2022-08-23T04:51:54.534218Z"
    },
    "papermill": {
     "duration": 0.037125,
     "end_time": "2022-08-23T04:51:54.538942",
     "exception": false,
     "start_time": "2022-08-23T04:51:54.501817",
     "status": "completed"
    },
    "tags": []
   },
   "outputs": [
    {
     "name": "stdout",
     "output_type": "stream",
     "text": [
      "(array([  328,   387,   633,   762,   953,   954,  1016,  1048,  1633,\n",
      "        1769,  3082,  4668,  5062,  5120,  5199,  5287,  5320,  5359,\n",
      "        5604,  5610,  5918,  5946,  6029,  6148,  6528,  6660,  6802,\n",
      "        6890,  7147,  7195,  7258,  7407,  7769,  8682,  8857,  9876,\n",
      "       10662, 10884, 10936, 11067, 11556, 11761, 11846], dtype=int64),)\n"
     ]
    }
   ],
   "source": [
    "print(np.where((df[\"price_per_sqft\"]<1000) | (df['price_per_sqft']>50000)))"
   ]
  },
  {
   "cell_type": "markdown",
   "id": "77678dc6",
   "metadata": {
    "papermill": {
     "duration": 0.023815,
     "end_time": "2022-08-23T04:51:54.587078",
     "exception": false,
     "start_time": "2022-08-23T04:51:54.563263",
     "status": "completed"
    },
    "tags": []
   },
   "source": [
    "#### Houses with price more than 50,000 per square feet are acting as outliers."
   ]
  },
  {
   "cell_type": "code",
   "execution_count": null,
   "id": "ac4112b5",
   "metadata": {
    "execution": {
     "iopub.execute_input": "2022-08-23T04:51:54.637139Z",
     "iopub.status.busy": "2022-08-23T04:51:54.636684Z",
     "iopub.status.idle": "2022-08-23T04:51:54.645481Z",
     "shell.execute_reply": "2022-08-23T04:51:54.644146Z"
    },
    "papermill": {
     "duration": 0.036691,
     "end_time": "2022-08-23T04:51:54.647823",
     "exception": false,
     "start_time": "2022-08-23T04:51:54.611132",
     "status": "completed"
    },
    "tags": []
   },
   "outputs": [],
   "source": [
    "df = df[(df[\"price_per_sqft\"]>=1000) | (df['price_per_sqft']<=50000)]"
   ]
  },
  {
   "cell_type": "code",
   "execution_count": null,
   "id": "d8ec6f23",
   "metadata": {
    "execution": {
     "iopub.execute_input": "2022-08-23T04:51:54.698675Z",
     "iopub.status.busy": "2022-08-23T04:51:54.698258Z",
     "iopub.status.idle": "2022-08-23T04:51:54.714592Z",
     "shell.execute_reply": "2022-08-23T04:51:54.713027Z"
    },
    "papermill": {
     "duration": 0.044514,
     "end_time": "2022-08-23T04:51:54.716855",
     "exception": false,
     "start_time": "2022-08-23T04:51:54.672341",
     "status": "completed"
    },
    "scrolled": true,
    "tags": []
   },
   "outputs": [
    {
     "name": "stdout",
     "output_type": "stream",
     "text": [
      "<class 'pandas.core.frame.DataFrame'>\n",
      "Index: 12560 entries, 0 to 12709\n",
      "Data columns (total 8 columns):\n",
      " #   Column          Non-Null Count  Dtype  \n",
      "---  ------          --------------  -----  \n",
      " 0   area_type       12560 non-null  object \n",
      " 1   location        12560 non-null  object \n",
      " 2   size            12560 non-null  object \n",
      " 3   total_sqft      12560 non-null  float64\n",
      " 4   bath            12560 non-null  float64\n",
      " 5   balcony         12560 non-null  float64\n",
      " 6   price           12560 non-null  float64\n",
      " 7   price_per_sqft  12560 non-null  float64\n",
      "dtypes: float64(5), object(3)\n",
      "memory usage: 883.1+ KB\n"
     ]
    }
   ],
   "source": [
    "df.info()"
   ]
  },
  {
   "cell_type": "code",
   "execution_count": null,
   "id": "c75f7031",
   "metadata": {},
   "outputs": [
    {
     "data": {
      "text/plain": [
       "area_type\n",
       "Super built-up  Area    8346\n",
       "Built-up  Area          2303\n",
       "Plot  Area              1834\n",
       "Carpet  Area              77\n",
       "Name: count, dtype: int64"
      ]
     },
     "execution_count": 486,
     "metadata": {},
     "output_type": "execute_result"
    }
   ],
   "source": [
    "df.area_type.value_counts()"
   ]
  },
  {
   "cell_type": "code",
   "execution_count": null,
   "id": "4d3f57dc",
   "metadata": {},
   "outputs": [
    {
     "name": "stdout",
     "output_type": "stream",
     "text": [
      "Top 5 locations:\n",
      "location\n",
      "Whitefield               499\n",
      "Sarjapur  Road           366\n",
      "Electronic City          300\n",
      "Kanakpura Road           257\n",
      "Thanisandra              221\n",
      "Yelahanka                199\n",
      "Uttarahalli              185\n",
      "Hebbal                   169\n",
      "Raja Rajeshwari Nagar    168\n",
      "Marathahalli             164\n",
      "Name: count, dtype: int64\n"
     ]
    }
   ],
   "source": [
    "location_counts = df['location'].value_counts()\n",
    "sorted_locations = location_counts.sort_values(ascending=False)\n",
    "top_5_locations = sorted_locations.head(10)\n",
    "print(\"Top 5 locations:\")\n",
    "print(top_5_locations)"
   ]
  },
  {
   "cell_type": "code",
   "execution_count": null,
   "id": "d515534b",
   "metadata": {},
   "outputs": [],
   "source": [
    "# df['location'].map({'Whitefield' : 1,'Sarjapur  Road' : 2,'Electronic City' : 3,'Kanakpura Road' : 4,'Thanisandra' : 5,\n",
    "#                     'Yelahanka' : 6,'Uttarahalli' : 7,'Hebbal' : 8,'Raja Rajeshwari Nagar' : 9,'Marathahalli' : 10})"
   ]
  },
  {
   "cell_type": "code",
   "execution_count": null,
   "id": "9c060a64",
   "metadata": {},
   "outputs": [
    {
     "data": {
      "text/html": [
       "<div>\n",
       "<style scoped>\n",
       "    .dataframe tbody tr th:only-of-type {\n",
       "        vertical-align: middle;\n",
       "    }\n",
       "\n",
       "    .dataframe tbody tr th {\n",
       "        vertical-align: top;\n",
       "    }\n",
       "\n",
       "    .dataframe thead th {\n",
       "        text-align: right;\n",
       "    }\n",
       "</style>\n",
       "<table border=\"1\" class=\"dataframe\">\n",
       "  <thead>\n",
       "    <tr style=\"text-align: right;\">\n",
       "      <th></th>\n",
       "      <th>area_type</th>\n",
       "      <th>location</th>\n",
       "      <th>size</th>\n",
       "      <th>total_sqft</th>\n",
       "      <th>bath</th>\n",
       "      <th>balcony</th>\n",
       "      <th>price</th>\n",
       "      <th>price_per_sqft</th>\n",
       "      <th>location_mapped</th>\n",
       "    </tr>\n",
       "  </thead>\n",
       "  <tbody>\n",
       "    <tr>\n",
       "      <th>0</th>\n",
       "      <td>Super built-up  Area</td>\n",
       "      <td>Electronic City Phase II</td>\n",
       "      <td>2 BHK</td>\n",
       "      <td>1056.0</td>\n",
       "      <td>2.0</td>\n",
       "      <td>1.0</td>\n",
       "      <td>39.07</td>\n",
       "      <td>3699.810606</td>\n",
       "      <td>0</td>\n",
       "    </tr>\n",
       "    <tr>\n",
       "      <th>1</th>\n",
       "      <td>Plot  Area</td>\n",
       "      <td>Chikka Tirupathi</td>\n",
       "      <td>4 BHK</td>\n",
       "      <td>2600.0</td>\n",
       "      <td>5.0</td>\n",
       "      <td>3.0</td>\n",
       "      <td>120.00</td>\n",
       "      <td>4615.384615</td>\n",
       "      <td>0</td>\n",
       "    </tr>\n",
       "    <tr>\n",
       "      <th>2</th>\n",
       "      <td>Built-up  Area</td>\n",
       "      <td>Uttarahalli</td>\n",
       "      <td>3 BHK</td>\n",
       "      <td>1440.0</td>\n",
       "      <td>2.0</td>\n",
       "      <td>3.0</td>\n",
       "      <td>62.00</td>\n",
       "      <td>4305.555556</td>\n",
       "      <td>7.0</td>\n",
       "    </tr>\n",
       "    <tr>\n",
       "      <th>3</th>\n",
       "      <td>Super built-up  Area</td>\n",
       "      <td>Lingadheeranahalli</td>\n",
       "      <td>3 BHK</td>\n",
       "      <td>1521.0</td>\n",
       "      <td>3.0</td>\n",
       "      <td>1.0</td>\n",
       "      <td>95.00</td>\n",
       "      <td>6245.890861</td>\n",
       "      <td>0</td>\n",
       "    </tr>\n",
       "    <tr>\n",
       "      <th>4</th>\n",
       "      <td>Super built-up  Area</td>\n",
       "      <td>Kothanur</td>\n",
       "      <td>2 BHK</td>\n",
       "      <td>1200.0</td>\n",
       "      <td>2.0</td>\n",
       "      <td>1.0</td>\n",
       "      <td>51.00</td>\n",
       "      <td>4250.000000</td>\n",
       "      <td>0</td>\n",
       "    </tr>\n",
       "    <tr>\n",
       "      <th>...</th>\n",
       "      <td>...</td>\n",
       "      <td>...</td>\n",
       "      <td>...</td>\n",
       "      <td>...</td>\n",
       "      <td>...</td>\n",
       "      <td>...</td>\n",
       "      <td>...</td>\n",
       "      <td>...</td>\n",
       "      <td>...</td>\n",
       "    </tr>\n",
       "    <tr>\n",
       "      <th>12705</th>\n",
       "      <td>Super built-up  Area</td>\n",
       "      <td>Green Glen Layout</td>\n",
       "      <td>3 BHK</td>\n",
       "      <td>1715.0</td>\n",
       "      <td>3.0</td>\n",
       "      <td>3.0</td>\n",
       "      <td>112.00</td>\n",
       "      <td>6530.612245</td>\n",
       "      <td>0</td>\n",
       "    </tr>\n",
       "    <tr>\n",
       "      <th>12706</th>\n",
       "      <td>Built-up  Area</td>\n",
       "      <td>Whitefield</td>\n",
       "      <td>5 BHK</td>\n",
       "      <td>3453.0</td>\n",
       "      <td>4.0</td>\n",
       "      <td>0.0</td>\n",
       "      <td>231.00</td>\n",
       "      <td>6689.834926</td>\n",
       "      <td>1.0</td>\n",
       "    </tr>\n",
       "    <tr>\n",
       "      <th>12707</th>\n",
       "      <td>Built-up  Area</td>\n",
       "      <td>Raja Rajeshwari Nagar</td>\n",
       "      <td>2 BHK</td>\n",
       "      <td>1141.0</td>\n",
       "      <td>2.0</td>\n",
       "      <td>1.0</td>\n",
       "      <td>60.00</td>\n",
       "      <td>5258.545136</td>\n",
       "      <td>9.0</td>\n",
       "    </tr>\n",
       "    <tr>\n",
       "      <th>12708</th>\n",
       "      <td>Super built-up  Area</td>\n",
       "      <td>Padmanabhanagar</td>\n",
       "      <td>4 BHK</td>\n",
       "      <td>4689.0</td>\n",
       "      <td>4.0</td>\n",
       "      <td>1.0</td>\n",
       "      <td>488.00</td>\n",
       "      <td>10407.336319</td>\n",
       "      <td>0</td>\n",
       "    </tr>\n",
       "    <tr>\n",
       "      <th>12709</th>\n",
       "      <td>Super built-up  Area</td>\n",
       "      <td>Doddathoguru</td>\n",
       "      <td>1 BHK</td>\n",
       "      <td>550.0</td>\n",
       "      <td>1.0</td>\n",
       "      <td>1.0</td>\n",
       "      <td>17.00</td>\n",
       "      <td>3090.909091</td>\n",
       "      <td>0</td>\n",
       "    </tr>\n",
       "  </tbody>\n",
       "</table>\n",
       "<p>12560 rows × 9 columns</p>\n",
       "</div>"
      ],
      "text/plain": [
       "                  area_type                  location   size  total_sqft  \\\n",
       "0      Super built-up  Area  Electronic City Phase II  2 BHK      1056.0   \n",
       "1                Plot  Area          Chikka Tirupathi  4 BHK      2600.0   \n",
       "2            Built-up  Area               Uttarahalli  3 BHK      1440.0   \n",
       "3      Super built-up  Area        Lingadheeranahalli  3 BHK      1521.0   \n",
       "4      Super built-up  Area                  Kothanur  2 BHK      1200.0   \n",
       "...                     ...                       ...    ...         ...   \n",
       "12705  Super built-up  Area         Green Glen Layout  3 BHK      1715.0   \n",
       "12706        Built-up  Area                Whitefield  5 BHK      3453.0   \n",
       "12707        Built-up  Area     Raja Rajeshwari Nagar  2 BHK      1141.0   \n",
       "12708  Super built-up  Area           Padmanabhanagar  4 BHK      4689.0   \n",
       "12709  Super built-up  Area              Doddathoguru  1 BHK       550.0   \n",
       "\n",
       "       bath  balcony   price  price_per_sqft location_mapped  \n",
       "0       2.0      1.0   39.07     3699.810606               0  \n",
       "1       5.0      3.0  120.00     4615.384615               0  \n",
       "2       2.0      3.0   62.00     4305.555556             7.0  \n",
       "3       3.0      1.0   95.00     6245.890861               0  \n",
       "4       2.0      1.0   51.00     4250.000000               0  \n",
       "...     ...      ...     ...             ...             ...  \n",
       "12705   3.0      3.0  112.00     6530.612245               0  \n",
       "12706   4.0      0.0  231.00     6689.834926             1.0  \n",
       "12707   2.0      1.0   60.00     5258.545136             9.0  \n",
       "12708   4.0      1.0  488.00    10407.336319               0  \n",
       "12709   1.0      1.0   17.00     3090.909091               0  \n",
       "\n",
       "[12560 rows x 9 columns]"
      ]
     },
     "execution_count": 489,
     "metadata": {},
     "output_type": "execute_result"
    }
   ],
   "source": [
    "mapping_dict = {\n",
    "    'Whitefield': 1,\n",
    "    'Sarjapur  Road': 2,\n",
    "    'Electronic City': 3,\n",
    "    'Kanakpura Road': 4,\n",
    "    'Thanisandra': 5,\n",
    "    'Yelahanka': 6,\n",
    "    'Uttarahalli': 7,\n",
    "    'Hebbal': 8,\n",
    "    'Raja Rajeshwari Nagar': 9,\n",
    "    'Marathahalli': 10\n",
    "}\n",
    "\n",
    "selected_locations = set(mapping_dict.keys())\n",
    "\n",
    "df['location_mapped'] = df['location'].map(mapping_dict).fillna('Other')\n",
    "\n",
    "df.loc[~df['location'].isin(selected_locations), 'location_mapped'] = 0\n",
    "\n",
    "df\n"
   ]
  },
  {
   "cell_type": "markdown",
   "id": "4da4ef8d",
   "metadata": {
    "papermill": {
     "duration": 0.023956,
     "end_time": "2022-08-23T04:51:54.765116",
     "exception": false,
     "start_time": "2022-08-23T04:51:54.741160",
     "status": "completed"
    },
    "tags": []
   },
   "source": [
    "## Label Encoding"
   ]
  },
  {
   "cell_type": "code",
   "execution_count": null,
   "id": "5aad5d9c",
   "metadata": {
    "execution": {
     "iopub.execute_input": "2022-08-23T04:51:54.816592Z",
     "iopub.status.busy": "2022-08-23T04:51:54.816152Z",
     "iopub.status.idle": "2022-08-23T04:51:54.953138Z",
     "shell.execute_reply": "2022-08-23T04:51:54.951836Z"
    },
    "papermill": {
     "duration": 0.166355,
     "end_time": "2022-08-23T04:51:54.956025",
     "exception": false,
     "start_time": "2022-08-23T04:51:54.789670",
     "status": "completed"
    },
    "tags": []
   },
   "outputs": [],
   "source": [
    "from sklearn.preprocessing import LabelEncoder"
   ]
  },
  {
   "cell_type": "code",
   "execution_count": null,
   "id": "80d80fc7",
   "metadata": {
    "execution": {
     "iopub.execute_input": "2022-08-23T04:51:55.007539Z",
     "iopub.status.busy": "2022-08-23T04:51:55.006792Z",
     "iopub.status.idle": "2022-08-23T04:51:55.027216Z",
     "shell.execute_reply": "2022-08-23T04:51:55.026252Z"
    },
    "papermill": {
     "duration": 0.048904,
     "end_time": "2022-08-23T04:51:55.029747",
     "exception": false,
     "start_time": "2022-08-23T04:51:54.980843",
     "status": "completed"
    },
    "tags": []
   },
   "outputs": [],
   "source": [
    "encoder = LabelEncoder()\n",
    "df['area_type'] = encoder.fit_transform(df['area_type'])\n",
    "df['location'] = encoder.fit_transform(df['location'])\n",
    "df['size'] = encoder.fit_transform(df['size'])"
   ]
  },
  {
   "cell_type": "code",
   "execution_count": null,
   "id": "38129acd",
   "metadata": {
    "execution": {
     "iopub.execute_input": "2022-08-23T04:51:55.080943Z",
     "iopub.status.busy": "2022-08-23T04:51:55.079591Z",
     "iopub.status.idle": "2022-08-23T04:51:55.095987Z",
     "shell.execute_reply": "2022-08-23T04:51:55.094803Z"
    },
    "papermill": {
     "duration": 0.044306,
     "end_time": "2022-08-23T04:51:55.098344",
     "exception": false,
     "start_time": "2022-08-23T04:51:55.054038",
     "status": "completed"
    },
    "scrolled": true,
    "tags": []
   },
   "outputs": [
    {
     "data": {
      "text/html": [
       "<div>\n",
       "<style scoped>\n",
       "    .dataframe tbody tr th:only-of-type {\n",
       "        vertical-align: middle;\n",
       "    }\n",
       "\n",
       "    .dataframe tbody tr th {\n",
       "        vertical-align: top;\n",
       "    }\n",
       "\n",
       "    .dataframe thead th {\n",
       "        text-align: right;\n",
       "    }\n",
       "</style>\n",
       "<table border=\"1\" class=\"dataframe\">\n",
       "  <thead>\n",
       "    <tr style=\"text-align: right;\">\n",
       "      <th></th>\n",
       "      <th>area_type</th>\n",
       "      <th>location</th>\n",
       "      <th>size</th>\n",
       "      <th>total_sqft</th>\n",
       "      <th>bath</th>\n",
       "      <th>balcony</th>\n",
       "      <th>price</th>\n",
       "      <th>price_per_sqft</th>\n",
       "      <th>location_mapped</th>\n",
       "    </tr>\n",
       "  </thead>\n",
       "  <tbody>\n",
       "    <tr>\n",
       "      <th>0</th>\n",
       "      <td>3</td>\n",
       "      <td>403</td>\n",
       "      <td>5</td>\n",
       "      <td>1056.0</td>\n",
       "      <td>2.0</td>\n",
       "      <td>1.0</td>\n",
       "      <td>39.07</td>\n",
       "      <td>3699.810606</td>\n",
       "      <td>0</td>\n",
       "    </tr>\n",
       "    <tr>\n",
       "      <th>1</th>\n",
       "      <td>2</td>\n",
       "      <td>302</td>\n",
       "      <td>7</td>\n",
       "      <td>2600.0</td>\n",
       "      <td>5.0</td>\n",
       "      <td>3.0</td>\n",
       "      <td>120.00</td>\n",
       "      <td>4615.384615</td>\n",
       "      <td>0</td>\n",
       "    </tr>\n",
       "    <tr>\n",
       "      <th>2</th>\n",
       "      <td>0</td>\n",
       "      <td>1137</td>\n",
       "      <td>6</td>\n",
       "      <td>1440.0</td>\n",
       "      <td>2.0</td>\n",
       "      <td>3.0</td>\n",
       "      <td>62.00</td>\n",
       "      <td>4305.555556</td>\n",
       "      <td>7.0</td>\n",
       "    </tr>\n",
       "    <tr>\n",
       "      <th>3</th>\n",
       "      <td>3</td>\n",
       "      <td>734</td>\n",
       "      <td>6</td>\n",
       "      <td>1521.0</td>\n",
       "      <td>3.0</td>\n",
       "      <td>1.0</td>\n",
       "      <td>95.00</td>\n",
       "      <td>6245.890861</td>\n",
       "      <td>0</td>\n",
       "    </tr>\n",
       "    <tr>\n",
       "      <th>4</th>\n",
       "      <td>3</td>\n",
       "      <td>693</td>\n",
       "      <td>5</td>\n",
       "      <td>1200.0</td>\n",
       "      <td>2.0</td>\n",
       "      <td>1.0</td>\n",
       "      <td>51.00</td>\n",
       "      <td>4250.000000</td>\n",
       "      <td>0</td>\n",
       "    </tr>\n",
       "  </tbody>\n",
       "</table>\n",
       "</div>"
      ],
      "text/plain": [
       "   area_type  location  size  total_sqft  bath  balcony   price  \\\n",
       "0          3       403     5      1056.0   2.0      1.0   39.07   \n",
       "1          2       302     7      2600.0   5.0      3.0  120.00   \n",
       "2          0      1137     6      1440.0   2.0      3.0   62.00   \n",
       "3          3       734     6      1521.0   3.0      1.0   95.00   \n",
       "4          3       693     5      1200.0   2.0      1.0   51.00   \n",
       "\n",
       "   price_per_sqft location_mapped  \n",
       "0     3699.810606               0  \n",
       "1     4615.384615               0  \n",
       "2     4305.555556             7.0  \n",
       "3     6245.890861               0  \n",
       "4     4250.000000               0  "
      ]
     },
     "execution_count": 492,
     "metadata": {},
     "output_type": "execute_result"
    }
   ],
   "source": [
    "df.head()"
   ]
  },
  {
   "cell_type": "markdown",
   "id": "37c59da1",
   "metadata": {
    "papermill": {
     "duration": 0.024083,
     "end_time": "2022-08-23T04:51:55.146836",
     "exception": false,
     "start_time": "2022-08-23T04:51:55.122753",
     "status": "completed"
    },
    "tags": []
   },
   "source": [
    "### Corelation of Price with different features"
   ]
  },
  {
   "cell_type": "code",
   "execution_count": null,
   "id": "adb46f87",
   "metadata": {
    "execution": {
     "iopub.execute_input": "2022-08-23T04:51:55.198322Z",
     "iopub.status.busy": "2022-08-23T04:51:55.197582Z",
     "iopub.status.idle": "2022-08-23T04:51:55.768477Z",
     "shell.execute_reply": "2022-08-23T04:51:55.767195Z"
    },
    "papermill": {
     "duration": 0.59975,
     "end_time": "2022-08-23T04:51:55.771213",
     "exception": false,
     "start_time": "2022-08-23T04:51:55.171463",
     "status": "completed"
    },
    "tags": []
   },
   "outputs": [
    {
     "data": {
      "image/png": "[encoded data removed]",
      "text/plain": [
       "<Figure size 1200x900 with 2 Axes>"
      ]
     },
     "metadata": {},
     "output_type": "display_data"
    }
   ],
   "source": [
    "plt.figure(figsize = (12,9))\n",
    "sns.heatmap(df.corr(), annot = True, cmap = \"magma_r\")\n",
    "plt.title(\"Correlation Heatmap\",fontdict = {\"fontweight\":\"bold\"})\n",
    "plt.show()"
   ]
  },
  {
   "cell_type": "markdown",
   "id": "f67c1087",
   "metadata": {
    "papermill": {
     "duration": 0.025483,
     "end_time": "2022-08-23T04:51:55.822282",
     "exception": false,
     "start_time": "2022-08-23T04:51:55.796799",
     "status": "completed"
    },
    "tags": []
   },
   "source": [
    "#### area_type and location has very little correlation with price. So, these features can be removed."
   ]
  },
  {
   "cell_type": "code",
   "execution_count": null,
   "id": "fe8cf3eb",
   "metadata": {
    "execution": {
     "iopub.execute_input": "2022-08-23T04:51:55.876317Z",
     "iopub.status.busy": "2022-08-23T04:51:55.875888Z",
     "iopub.status.idle": "2022-08-23T04:51:55.882659Z",
     "shell.execute_reply": "2022-08-23T04:51:55.881622Z"
    },
    "papermill": {
     "duration": 0.037083,
     "end_time": "2022-08-23T04:51:55.884976",
     "exception": false,
     "start_time": "2022-08-23T04:51:55.847893",
     "status": "completed"
    },
    "tags": []
   },
   "outputs": [],
   "source": [
    "x = df.drop([\"price\", \"location\"], axis = 1)"
   ]
  },
  {
   "cell_type": "code",
   "execution_count": null,
   "id": "57ad816a",
   "metadata": {
    "execution": {
     "iopub.execute_input": "2022-08-23T04:51:55.938836Z",
     "iopub.status.busy": "2022-08-23T04:51:55.937817Z",
     "iopub.status.idle": "2022-08-23T04:51:55.943162Z",
     "shell.execute_reply": "2022-08-23T04:51:55.942052Z"
    },
    "papermill": {
     "duration": 0.034765,
     "end_time": "2022-08-23T04:51:55.945430",
     "exception": false,
     "start_time": "2022-08-23T04:51:55.910665",
     "status": "completed"
    },
    "tags": []
   },
   "outputs": [],
   "source": [
    "y = df[\"price\"]"
   ]
  },
  {
   "cell_type": "code",
   "execution_count": null,
   "id": "8fed3ca5",
   "metadata": {
    "execution": {
     "iopub.execute_input": "2022-08-23T04:51:55.998491Z",
     "iopub.status.busy": "2022-08-23T04:51:55.998116Z",
     "iopub.status.idle": "2022-08-23T04:51:56.002920Z",
     "shell.execute_reply": "2022-08-23T04:51:56.002069Z"
    },
    "papermill": {
     "duration": 0.034166,
     "end_time": "2022-08-23T04:51:56.005106",
     "exception": false,
     "start_time": "2022-08-23T04:51:55.970940",
     "status": "completed"
    },
    "tags": []
   },
   "outputs": [],
   "source": [
    "x = x.values\n",
    "y = y.values"
   ]
  },
  {
   "cell_type": "markdown",
   "id": "4f39ccb8",
   "metadata": {
    "papermill": {
     "duration": 0.025514,
     "end_time": "2022-08-23T04:51:56.056693",
     "exception": false,
     "start_time": "2022-08-23T04:51:56.031179",
     "status": "completed"
    },
    "tags": []
   },
   "source": [
    "## Test Train Split"
   ]
  },
  {
   "cell_type": "code",
   "execution_count": null,
   "id": "718ccb65",
   "metadata": {
    "execution": {
     "iopub.execute_input": "2022-08-23T04:51:56.110786Z",
     "iopub.status.busy": "2022-08-23T04:51:56.110080Z",
     "iopub.status.idle": "2022-08-23T04:51:56.168308Z",
     "shell.execute_reply": "2022-08-23T04:51:56.167403Z"
    },
    "papermill": {
     "duration": 0.088265,
     "end_time": "2022-08-23T04:51:56.170839",
     "exception": false,
     "start_time": "2022-08-23T04:51:56.082574",
     "status": "completed"
    },
    "tags": []
   },
   "outputs": [],
   "source": [
    "from sklearn.model_selection import train_test_split"
   ]
  },
  {
   "cell_type": "code",
   "execution_count": null,
   "id": "16b1fb4d",
   "metadata": {
    "execution": {
     "iopub.execute_input": "2022-08-23T04:51:56.225128Z",
     "iopub.status.busy": "2022-08-23T04:51:56.224429Z",
     "iopub.status.idle": "2022-08-23T04:51:56.230558Z",
     "shell.execute_reply": "2022-08-23T04:51:56.229368Z"
    },
    "papermill": {
     "duration": 0.036384,
     "end_time": "2022-08-23T04:51:56.233108",
     "exception": false,
     "start_time": "2022-08-23T04:51:56.196724",
     "status": "completed"
    },
    "tags": []
   },
   "outputs": [],
   "source": [
    "x_train, x_test, y_train, y_test = train_test_split(x,y, test_size = 0.2)"
   ]
  },
  {
   "cell_type": "markdown",
   "id": "fe975df8",
   "metadata": {
    "papermill": {
     "duration": 0.025341,
     "end_time": "2022-08-23T04:51:56.284064",
     "exception": false,
     "start_time": "2022-08-23T04:51:56.258723",
     "status": "completed"
    },
    "tags": []
   },
   "source": [
    "## Applying Linear Model Regression"
   ]
  },
  {
   "cell_type": "code",
   "execution_count": null,
   "id": "aaed4d42",
   "metadata": {
    "execution": {
     "iopub.execute_input": "2022-08-23T04:51:56.337362Z",
     "iopub.status.busy": "2022-08-23T04:51:56.336636Z",
     "iopub.status.idle": "2022-08-23T04:51:56.410513Z",
     "shell.execute_reply": "2022-08-23T04:51:56.409618Z"
    },
    "papermill": {
     "duration": 0.103429,
     "end_time": "2022-08-23T04:51:56.413274",
     "exception": false,
     "start_time": "2022-08-23T04:51:56.309845",
     "status": "completed"
    },
    "tags": []
   },
   "outputs": [],
   "source": [
    "from sklearn import linear_model"
   ]
  },
  {
   "cell_type": "code",
   "execution_count": null,
   "id": "b805fd3e",
   "metadata": {
    "execution": {
     "iopub.execute_input": "2022-08-23T04:51:56.467334Z",
     "iopub.status.busy": "2022-08-23T04:51:56.466537Z",
     "iopub.status.idle": "2022-08-23T04:51:56.471590Z",
     "shell.execute_reply": "2022-08-23T04:51:56.470857Z"
    },
    "papermill": {
     "duration": 0.034591,
     "end_time": "2022-08-23T04:51:56.473904",
     "exception": false,
     "start_time": "2022-08-23T04:51:56.439313",
     "status": "completed"
    },
    "tags": []
   },
   "outputs": [],
   "source": [
    "model = linear_model.LinearRegression()"
   ]
  },
  {
   "cell_type": "code",
   "execution_count": null,
   "id": "d724f44a",
   "metadata": {
    "execution": {
     "iopub.execute_input": "2022-08-23T04:51:56.529258Z",
     "iopub.status.busy": "2022-08-23T04:51:56.528420Z",
     "iopub.status.idle": "2022-08-23T04:51:56.557234Z",
     "shell.execute_reply": "2022-08-23T04:51:56.555872Z"
    },
    "papermill": {
     "duration": 0.060353,
     "end_time": "2022-08-23T04:51:56.559856",
     "exception": false,
     "start_time": "2022-08-23T04:51:56.499503",
     "status": "completed"
    },
    "tags": []
   },
   "outputs": [
    {
     "data": {
      "text/html": [
       "<style>#sk-container-id-9 {\n",
       "  /* Definition of color scheme common for light and dark mode */\n",
       "  --sklearn-color-text: black;\n",
       "  --sklearn-color-line: gray;\n",
       "  /* Definition of color scheme for unfitted estimators */\n",
       "  --sklearn-color-unfitted-level-0: #fff5e6;\n",
       "  --sklearn-color-unfitted-level-1: #f6e4d2;\n",
       "  --sklearn-color-unfitted-level-2: #ffe0b3;\n",
       "  --sklearn-color-unfitted-level-3: chocolate;\n",
       "  /* Definition of color scheme for fitted estimators */\n",
       "  --sklearn-color-fitted-level-0: #f0f8ff;\n",
       "  --sklearn-color-fitted-level-1: #d4ebff;\n",
       "  --sklearn-color-fitted-level-2: #b3dbfd;\n",
       "  --sklearn-color-fitted-level-3: cornflowerblue;\n",
       "\n",
       "  /* Specific color for light theme */\n",
       "  --sklearn-color-text-on-default-background: var(--sg-text-color, var(--theme-code-foreground, var(--jp-content-font-color1, black)));\n",
       "  --sklearn-color-background: var(--sg-background-color, var(--theme-background, var(--jp-layout-color0, white)));\n",
       "  --sklearn-color-border-box: var(--sg-text-color, var(--theme-code-foreground, var(--jp-content-font-color1, black)));\n",
       "  --sklearn-color-icon: #696969;\n",
       "\n",
       "  @media (prefers-color-scheme: dark) {\n",
       "    /* Redefinition of color scheme for dark theme */\n",
       "    --sklearn-color-text-on-default-background: var(--sg-text-color, var(--theme-code-foreground, var(--jp-content-font-color1, white)));\n",
       "    --sklearn-color-background: var(--sg-background-color, var(--theme-background, var(--jp-layout-color0, #111)));\n",
       "    --sklearn-color-border-box: var(--sg-text-color, var(--theme-code-foreground, var(--jp-content-font-color1, white)));\n",
       "    --sklearn-color-icon: #878787;\n",
       "  }\n",
       "}\n",
       "\n",
       "#sk-container-id-9 {\n",
       "  color: var(--sklearn-color-text);\n",
       "}\n",
       "\n",
       "#sk-container-id-9 pre {\n",
       "  padding: 0;\n",
       "}\n",
       "\n",
       "#sk-container-id-9 input.sk-hidden--visually {\n",
       "  border: 0;\n",
       "  clip: rect(1px 1px 1px 1px);\n",
       "  clip: rect(1px, 1px, 1px, 1px);\n",
       "  height: 1px;\n",
       "  margin: -1px;\n",
       "  overflow: hidden;\n",
       "  padding: 0;\n",
       "  position: absolute;\n",
       "  width: 1px;\n",
       "}\n",
       "\n",
       "#sk-container-id-9 div.sk-dashed-wrapped {\n",
       "  border: 1px dashed var(--sklearn-color-line);\n",
       "  margin: 0 0.4em 0.5em 0.4em;\n",
       "  box-sizing: border-box;\n",
       "  padding-bottom: 0.4em;\n",
       "  background-color: var(--sklearn-color-background);\n",
       "}\n",
       "\n",
       "#sk-container-id-9 div.sk-container {\n",
       "  /* jupyter's `normalize.less` sets `[hidden] { display: none; }`\n",
       "     but bootstrap.min.css set `[hidden] { display: none !important; }`\n",
       "     so we also need the `!important` here to be able to override the\n",
       "     default hidden behavior on the sphinx rendered scikit-learn.org.\n",
       "     See: https://github.com/scikit-learn/scikit-learn/issues/21755 */\n",
       "  display: inline-block !important;\n",
       "  position: relative;\n",
       "}\n",
       "\n",
       "#sk-container-id-9 div.sk-text-repr-fallback {\n",
       "  display: none;\n",
       "}\n",
       "\n",
       "div.sk-parallel-item,\n",
       "div.sk-serial,\n",
       "div.sk-item {\n",
       "  /* draw centered vertical line to link estimators */\n",
       "  background-image: linear-gradient(var(--sklearn-color-text-on-default-background), var(--sklearn-color-text-on-default-background));\n",
       "  background-size: 2px 100%;\n",
       "  background-repeat: no-repeat;\n",
       "  background-position: center center;\n",
       "}\n",
       "\n",
       "/* Parallel-specific style estimator block */\n",
       "\n",
       "#sk-container-id-9 div.sk-parallel-item::after {\n",
       "  content: \"\";\n",
       "  width: 100%;\n",
       "  border-bottom: 2px solid var(--sklearn-color-text-on-default-background);\n",
       "  flex-grow: 1;\n",
       "}\n",
       "\n",
       "#sk-container-id-9 div.sk-parallel {\n",
       "  display: flex;\n",
       "  align-items: stretch;\n",
       "  justify-content: center;\n",
       "  background-color: var(--sklearn-color-background);\n",
       "  position: relative;\n",
       "}\n",
       "\n",
       "#sk-container-id-9 div.sk-parallel-item {\n",
       "  display: flex;\n",
       "  flex-direction: column;\n",
       "}\n",
       "\n",
       "#sk-container-id-9 div.sk-parallel-item:first-child::after {\n",
       "  align-self: flex-end;\n",
       "  width: 50%;\n",
       "}\n",
       "\n",
       "#sk-container-id-9 div.sk-parallel-item:last-child::after {\n",
       "  align-self: flex-start;\n",
       "  width: 50%;\n",
       "}\n",
       "\n",
       "#sk-container-id-9 div.sk-parallel-item:only-child::after {\n",
       "  width: 0;\n",
       "}\n",
       "\n",
       "/* Serial-specific style estimator block */\n",
       "\n",
       "#sk-container-id-9 div.sk-serial {\n",
       "  display: flex;\n",
       "  flex-direction: column;\n",
       "  align-items: center;\n",
       "  background-color: var(--sklearn-color-background);\n",
       "  padding-right: 1em;\n",
       "  padding-left: 1em;\n",
       "}\n",
       "\n",
       "\n",
       "/* Toggleable style: style used for estimator/Pipeline/ColumnTransformer box that is\n",
       "clickable and can be expanded/collapsed.\n",
       "- Pipeline and ColumnTransformer use this feature and define the default style\n",
       "- Estimators will overwrite some part of the style using the `sk-estimator` class\n",
       "*/\n",
       "\n",
       "/* Pipeline and ColumnTransformer style (default) */\n",
       "\n",
       "#sk-container-id-9 div.sk-toggleable {\n",
       "  /* Default theme specific background. It is overwritten whether we have a\n",
       "  specific estimator or a Pipeline/ColumnTransformer */\n",
       "  background-color: var(--sklearn-color-background);\n",
       "}\n",
       "\n",
       "/* Toggleable label */\n",
       "#sk-container-id-9 label.sk-toggleable__label {\n",
       "  cursor: pointer;\n",
       "  display: block;\n",
       "  width: 100%;\n",
       "  margin-bottom: 0;\n",
       "  padding: 0.5em;\n",
       "  box-sizing: border-box;\n",
       "  text-align: center;\n",
       "}\n",
       "\n",
       "#sk-container-id-9 label.sk-toggleable__label-arrow:before {\n",
       "  /* Arrow on the left of the label */\n",
       "  content: \"▸\";\n",
       "  float: left;\n",
       "  margin-right: 0.25em;\n",
       "  color: var(--sklearn-color-icon);\n",
       "}\n",
       "\n",
       "#sk-container-id-9 label.sk-toggleable__label-arrow:hover:before {\n",
       "  color: var(--sklearn-color-text);\n",
       "}\n",
       "\n",
       "/* Toggleable content - dropdown */\n",
       "\n",
       "#sk-container-id-9 div.sk-toggleable__content {\n",
       "  max-height: 0;\n",
       "  max-width: 0;\n",
       "  overflow: hidden;\n",
       "  text-align: left;\n",
       "  /* unfitted */\n",
       "  background-color: var(--sklearn-color-unfitted-level-0);\n",
       "}\n",
       "\n",
       "#sk-container-id-9 div.sk-toggleable__content.fitted {\n",
       "  /* fitted */\n",
       "  background-color: var(--sklearn-color-fitted-level-0);\n",
       "}\n",
       "\n",
       "#sk-container-id-9 div.sk-toggleable__content pre {\n",
       "  margin: 0.2em;\n",
       "  border-radius: 0.25em;\n",
       "  color: var(--sklearn-color-text);\n",
       "  /* unfitted */\n",
       "  background-color: var(--sklearn-color-unfitted-level-0);\n",
       "}\n",
       "\n",
       "#sk-container-id-9 div.sk-toggleable__content.fitted pre {\n",
       "  /* unfitted */\n",
       "  background-color: var(--sklearn-color-fitted-level-0);\n",
       "}\n",
       "\n",
       "#sk-container-id-9 input.sk-toggleable__control:checked~div.sk-toggleable__content {\n",
       "  /* Expand drop-down */\n",
       "  max-height: 200px;\n",
       "  max-width: 100%;\n",
       "  overflow: auto;\n",
       "}\n",
       "\n",
       "#sk-container-id-9 input.sk-toggleable__control:checked~label.sk-toggleable__label-arrow:before {\n",
       "  content: \"▾\";\n",
       "}\n",
       "\n",
       "/* Pipeline/ColumnTransformer-specific style */\n",
       "\n",
       "#sk-container-id-9 div.sk-label input.sk-toggleable__control:checked~label.sk-toggleable__label {\n",
       "  color: var(--sklearn-color-text);\n",
       "  background-color: var(--sklearn-color-unfitted-level-2);\n",
       "}\n",
       "\n",
       "#sk-container-id-9 div.sk-label.fitted input.sk-toggleable__control:checked~label.sk-toggleable__label {\n",
       "  background-color: var(--sklearn-color-fitted-level-2);\n",
       "}\n",
       "\n",
       "/* Estimator-specific style */\n",
       "\n",
       "/* Colorize estimator box */\n",
       "#sk-container-id-9 div.sk-estimator input.sk-toggleable__control:checked~label.sk-toggleable__label {\n",
       "  /* unfitted */\n",
       "  background-color: var(--sklearn-color-unfitted-level-2);\n",
       "}\n",
       "\n",
       "#sk-container-id-9 div.sk-estimator.fitted input.sk-toggleable__control:checked~label.sk-toggleable__label {\n",
       "  /* fitted */\n",
       "  background-color: var(--sklearn-color-fitted-level-2);\n",
       "}\n",
       "\n",
       "#sk-container-id-9 div.sk-label label.sk-toggleable__label,\n",
       "#sk-container-id-9 div.sk-label label {\n",
       "  /* The background is the default theme color */\n",
       "  color: var(--sklearn-color-text-on-default-background);\n",
       "}\n",
       "\n",
       "/* On hover, darken the color of the background */\n",
       "#sk-container-id-9 div.sk-label:hover label.sk-toggleable__label {\n",
       "  color: var(--sklearn-color-text);\n",
       "  background-color: var(--sklearn-color-unfitted-level-2);\n",
       "}\n",
       "\n",
       "/* Label box, darken color on hover, fitted */\n",
       "#sk-container-id-9 div.sk-label.fitted:hover label.sk-toggleable__label.fitted {\n",
       "  color: var(--sklearn-color-text);\n",
       "  background-color: var(--sklearn-color-fitted-level-2);\n",
       "}\n",
       "\n",
       "/* Estimator label */\n",
       "\n",
       "#sk-container-id-9 div.sk-label label {\n",
       "  font-family: monospace;\n",
       "  font-weight: bold;\n",
       "  display: inline-block;\n",
       "  line-height: 1.2em;\n",
       "}\n",
       "\n",
       "#sk-container-id-9 div.sk-label-container {\n",
       "  text-align: center;\n",
       "}\n",
       "\n",
       "/* Estimator-specific */\n",
       "#sk-container-id-9 div.sk-estimator {\n",
       "  font-family: monospace;\n",
       "  border: 1px dotted var(--sklearn-color-border-box);\n",
       "  border-radius: 0.25em;\n",
       "  box-sizing: border-box;\n",
       "  margin-bottom: 0.5em;\n",
       "  /* unfitted */\n",
       "  background-color: var(--sklearn-color-unfitted-level-0);\n",
       "}\n",
       "\n",
       "#sk-container-id-9 div.sk-estimator.fitted {\n",
       "  /* fitted */\n",
       "  background-color: var(--sklearn-color-fitted-level-0);\n",
       "}\n",
       "\n",
       "/* on hover */\n",
       "#sk-container-id-9 div.sk-estimator:hover {\n",
       "  /* unfitted */\n",
       "  background-color: var(--sklearn-color-unfitted-level-2);\n",
       "}\n",
       "\n",
       "#sk-container-id-9 div.sk-estimator.fitted:hover {\n",
       "  /* fitted */\n",
       "  background-color: var(--sklearn-color-fitted-level-2);\n",
       "}\n",
       "\n",
       "/* Specification for estimator info (e.g. \"i\" and \"?\") */\n",
       "\n",
       "/* Common style for \"i\" and \"?\" */\n",
       "\n",
       ".sk-estimator-doc-link,\n",
       "a:link.sk-estimator-doc-link,\n",
       "a:visited.sk-estimator-doc-link {\n",
       "  float: right;\n",
       "  font-size: smaller;\n",
       "  line-height: 1em;\n",
       "  font-family: monospace;\n",
       "  background-color: var(--sklearn-color-background);\n",
       "  border-radius: 1em;\n",
       "  height: 1em;\n",
       "  width: 1em;\n",
       "  text-decoration: none !important;\n",
       "  margin-left: 1ex;\n",
       "  /* unfitted */\n",
       "  border: var(--sklearn-color-unfitted-level-1) 1pt solid;\n",
       "  color: var(--sklearn-color-unfitted-level-1);\n",
       "}\n",
       "\n",
       ".sk-estimator-doc-link.fitted,\n",
       "a:link.sk-estimator-doc-link.fitted,\n",
       "a:visited.sk-estimator-doc-link.fitted {\n",
       "  /* fitted */\n",
       "  border: var(--sklearn-color-fitted-level-1) 1pt solid;\n",
       "  color: var(--sklearn-color-fitted-level-1);\n",
       "}\n",
       "\n",
       "/* On hover */\n",
       "div.sk-estimator:hover .sk-estimator-doc-link:hover,\n",
       ".sk-estimator-doc-link:hover,\n",
       "div.sk-label-container:hover .sk-estimator-doc-link:hover,\n",
       ".sk-estimator-doc-link:hover {\n",
       "  /* unfitted */\n",
       "  background-color: var(--sklearn-color-unfitted-level-3);\n",
       "  color: var(--sklearn-color-background);\n",
       "  text-decoration: none;\n",
       "}\n",
       "\n",
       "div.sk-estimator.fitted:hover .sk-estimator-doc-link.fitted:hover,\n",
       ".sk-estimator-doc-link.fitted:hover,\n",
       "div.sk-label-container:hover .sk-estimator-doc-link.fitted:hover,\n",
       ".sk-estimator-doc-link.fitted:hover {\n",
       "  /* fitted */\n",
       "  background-color: var(--sklearn-color-fitted-level-3);\n",
       "  color: var(--sklearn-color-background);\n",
       "  text-decoration: none;\n",
       "}\n",
       "\n",
       "/* Span, style for the box shown on hovering the info icon */\n",
       ".sk-estimator-doc-link span {\n",
       "  display: none;\n",
       "  z-index: 9999;\n",
       "  position: relative;\n",
       "  font-weight: normal;\n",
       "  right: .2ex;\n",
       "  padding: .5ex;\n",
       "  margin: .5ex;\n",
       "  width: min-content;\n",
       "  min-width: 20ex;\n",
       "  max-width: 50ex;\n",
       "  color: var(--sklearn-color-text);\n",
       "  box-shadow: 2pt 2pt 4pt #999;\n",
       "  /* unfitted */\n",
       "  background: var(--sklearn-color-unfitted-level-0);\n",
       "  border: .5pt solid var(--sklearn-color-unfitted-level-3);\n",
       "}\n",
       "\n",
       ".sk-estimator-doc-link.fitted span {\n",
       "  /* fitted */\n",
       "  background: var(--sklearn-color-fitted-level-0);\n",
       "  border: var(--sklearn-color-fitted-level-3);\n",
       "}\n",
       "\n",
       ".sk-estimator-doc-link:hover span {\n",
       "  display: block;\n",
       "}\n",
       "\n",
       "/* \"?\"-specific style due to the `<a>` HTML tag */\n",
       "\n",
       "#sk-container-id-9 a.estimator_doc_link {\n",
       "  float: right;\n",
       "  font-size: 1rem;\n",
       "  line-height: 1em;\n",
       "  font-family: monospace;\n",
       "  background-color: var(--sklearn-color-background);\n",
       "  border-radius: 1rem;\n",
       "  height: 1rem;\n",
       "  width: 1rem;\n",
       "  text-decoration: none;\n",
       "  /* unfitted */\n",
       "  color: var(--sklearn-color-unfitted-level-1);\n",
       "  border: var(--sklearn-color-unfitted-level-1) 1pt solid;\n",
       "}\n",
       "\n",
       "#sk-container-id-9 a.estimator_doc_link.fitted {\n",
       "  /* fitted */\n",
       "  border: var(--sklearn-color-fitted-level-1) 1pt solid;\n",
       "  color: var(--sklearn-color-fitted-level-1);\n",
       "}\n",
       "\n",
       "/* On hover */\n",
       "#sk-container-id-9 a.estimator_doc_link:hover {\n",
       "  /* unfitted */\n",
       "  background-color: var(--sklearn-color-unfitted-level-3);\n",
       "  color: var(--sklearn-color-background);\n",
       "  text-decoration: none;\n",
       "}\n",
       "\n",
       "#sk-container-id-9 a.estimator_doc_link.fitted:hover {\n",
       "  /* fitted */\n",
       "  background-color: var(--sklearn-color-fitted-level-3);\n",
       "}\n",
       "</style><div id=\"sk-container-id-9\" class=\"sk-top-container\"><div class=\"sk-text-repr-fallback\"><pre>LinearRegression()</pre><b>In a Jupyter environment, please rerun this cell to show the HTML representation or trust the notebook. <br />On GitHub, the HTML representation is unable to render, please try loading this page with nbviewer.org.</b></div><div class=\"sk-container\" hidden><div class=\"sk-item\"><div class=\"sk-estimator fitted sk-toggleable\"><input class=\"sk-toggleable__control sk-hidden--visually\" id=\"sk-estimator-id-9\" type=\"checkbox\" checked><label for=\"sk-estimator-id-9\" class=\"sk-toggleable__label fitted sk-toggleable__label-arrow fitted\">&nbsp;&nbsp;LinearRegression<a class=\"sk-estimator-doc-link fitted\" rel=\"noreferrer\" target=\"_blank\" href=\"https://scikit-learn.org/1.4/modules/generated/sklearn.linear_model.LinearRegression.html\">?<span>Documentation for LinearRegression</span></a><span class=\"sk-estimator-doc-link fitted\">i<span>Fitted</span></span></label><div class=\"sk-toggleable__content fitted\"><pre>LinearRegression()</pre></div> </div></div></div></div>"
      ],
      "text/plain": [
       "LinearRegression()"
      ]
     },
     "execution_count": 501,
     "metadata": {},
     "output_type": "execute_result"
    }
   ],
   "source": [
    "model.fit(x_train, y_train)"
   ]
  },
  {
   "cell_type": "code",
   "execution_count": null,
   "id": "2b011757",
   "metadata": {
    "execution": {
     "iopub.execute_input": "2022-08-23T04:51:56.613565Z",
     "iopub.status.busy": "2022-08-23T04:51:56.612841Z",
     "iopub.status.idle": "2022-08-23T04:51:56.623523Z",
     "shell.execute_reply": "2022-08-23T04:51:56.621771Z"
    },
    "papermill": {
     "duration": 0.041694,
     "end_time": "2022-08-23T04:51:56.627828",
     "exception": false,
     "start_time": "2022-08-23T04:51:56.586134",
     "status": "completed"
    },
    "tags": []
   },
   "outputs": [],
   "source": [
    "y_pred = model.predict(x_test)"
   ]
  },
  {
   "cell_type": "code",
   "execution_count": null,
   "id": "b03bb5a6",
   "metadata": {
    "execution": {
     "iopub.execute_input": "2022-08-23T04:51:56.750807Z",
     "iopub.status.busy": "2022-08-23T04:51:56.750360Z",
     "iopub.status.idle": "2022-08-23T04:51:56.755445Z",
     "shell.execute_reply": "2022-08-23T04:51:56.754251Z"
    },
    "papermill": {
     "duration": 0.062125,
     "end_time": "2022-08-23T04:51:56.757738",
     "exception": false,
     "start_time": "2022-08-23T04:51:56.695613",
     "status": "completed"
    },
    "tags": []
   },
   "outputs": [],
   "source": [
    "from sklearn.metrics import r2_score"
   ]
  },
  {
   "cell_type": "code",
   "execution_count": null,
   "id": "fbd6d634",
   "metadata": {
    "execution": {
     "iopub.execute_input": "2022-08-23T04:51:56.811315Z",
     "iopub.status.busy": "2022-08-23T04:51:56.810883Z",
     "iopub.status.idle": "2022-08-23T04:51:56.818146Z",
     "shell.execute_reply": "2022-08-23T04:51:56.816605Z"
    },
    "papermill": {
     "duration": 0.038756,
     "end_time": "2022-08-23T04:51:56.822360",
     "exception": false,
     "start_time": "2022-08-23T04:51:56.783604",
     "status": "completed"
    },
    "tags": []
   },
   "outputs": [],
   "source": [
    "r2_score = model.score(x_test,y_test)"
   ]
  },
  {
   "cell_type": "code",
   "execution_count": null,
   "id": "fa7f6ea6",
   "metadata": {
    "execution": {
     "iopub.execute_input": "2022-08-23T04:51:56.946091Z",
     "iopub.status.busy": "2022-08-23T04:51:56.945031Z",
     "iopub.status.idle": "2022-08-23T04:51:56.950105Z",
     "shell.execute_reply": "2022-08-23T04:51:56.949295Z"
    },
    "papermill": {
     "duration": 0.063167,
     "end_time": "2022-08-23T04:51:56.952596",
     "exception": false,
     "start_time": "2022-08-23T04:51:56.889429",
     "status": "completed"
    },
    "tags": []
   },
   "outputs": [
    {
     "name": "stdout",
     "output_type": "stream",
     "text": [
      "45.145904839178954 %\n"
     ]
    }
   ],
   "source": [
    "print(r2_score*100,'%')"
   ]
  },
  {
   "cell_type": "markdown",
   "id": "a1b737f1",
   "metadata": {
    "papermill": {
     "duration": 0.025792,
     "end_time": "2022-08-23T04:51:57.004230",
     "exception": false,
     "start_time": "2022-08-23T04:51:56.978438",
     "status": "completed"
    },
    "tags": []
   },
   "source": [
    "## Applying Random Forest Regressor"
   ]
  },
  {
   "cell_type": "code",
   "execution_count": null,
   "id": "d361e3b2",
   "metadata": {
    "execution": {
     "iopub.execute_input": "2022-08-23T04:51:57.058588Z",
     "iopub.status.busy": "2022-08-23T04:51:57.057771Z",
     "iopub.status.idle": "2022-08-23T04:51:57.205500Z",
     "shell.execute_reply": "2022-08-23T04:51:57.204058Z"
    },
    "papermill": {
     "duration": 0.17767,
     "end_time": "2022-08-23T04:51:57.208365",
     "exception": false,
     "start_time": "2022-08-23T04:51:57.030695",
     "status": "completed"
    },
    "tags": []
   },
   "outputs": [],
   "source": [
    "from sklearn.ensemble import RandomForestRegressor"
   ]
  },
  {
   "cell_type": "code",
   "execution_count": null,
   "id": "2bcfdff7",
   "metadata": {
    "execution": {
     "iopub.execute_input": "2022-08-23T04:51:57.262489Z",
     "iopub.status.busy": "2022-08-23T04:51:57.261725Z",
     "iopub.status.idle": "2022-08-23T04:51:57.266458Z",
     "shell.execute_reply": "2022-08-23T04:51:57.265365Z"
    },
    "papermill": {
     "duration": 0.034378,
     "end_time": "2022-08-23T04:51:57.268807",
     "exception": false,
     "start_time": "2022-08-23T04:51:57.234429",
     "status": "completed"
    },
    "tags": []
   },
   "outputs": [],
   "source": [
    "rfmodel=RandomForestRegressor(n_estimators=10, verbose=4)"
   ]
  },
  {
   "cell_type": "code",
   "execution_count": null,
   "id": "a6f4f44b",
   "metadata": {
    "execution": {
     "iopub.execute_input": "2022-08-23T04:51:57.324438Z",
     "iopub.status.busy": "2022-08-23T04:51:57.323402Z",
     "iopub.status.idle": "2022-08-23T04:51:57.553354Z",
     "shell.execute_reply": "2022-08-23T04:51:57.551808Z"
    },
    "papermill": {
     "duration": 0.260792,
     "end_time": "2022-08-23T04:51:57.556039",
     "exception": false,
     "start_time": "2022-08-23T04:51:57.295247",
     "status": "completed"
    },
    "scrolled": true,
    "tags": []
   },
   "outputs": [
    {
     "name": "stdout",
     "output_type": "stream",
     "text": [
      "building tree 1 of 10\n",
      "building tree 2 of 10\n",
      "building tree 3 of 10\n",
      "building tree 4 of 10\n",
      "building tree 5 of 10\n",
      "building tree 6 of 10\n",
      "building tree 7 of 10\n",
      "building tree 8 of 10\n",
      "building tree 9 of 10\n",
      "building tree 10 of 10\n"
     ]
    },
    {
     "data": {
      "text/html": [
       "<style>#sk-container-id-11 {\n",
       "  /* Definition of color scheme common for light and dark mode */\n",
       "  --sklearn-color-text: black;\n",
       "  --sklearn-color-line: gray;\n",
       "  /* Definition of color scheme for unfitted estimators */\n",
       "  --sklearn-color-unfitted-level-0: #fff5e6;\n",
       "  --sklearn-color-unfitted-level-1: #f6e4d2;\n",
       "  --sklearn-color-unfitted-level-2: #ffe0b3;\n",
       "  --sklearn-color-unfitted-level-3: chocolate;\n",
       "  /* Definition of color scheme for fitted estimators */\n",
       "  --sklearn-color-fitted-level-0: #f0f8ff;\n",
       "  --sklearn-color-fitted-level-1: #d4ebff;\n",
       "  --sklearn-color-fitted-level-2: #b3dbfd;\n",
       "  --sklearn-color-fitted-level-3: cornflowerblue;\n",
       "\n",
       "  /* Specific color for light theme */\n",
       "  --sklearn-color-text-on-default-background: var(--sg-text-color, var(--theme-code-foreground, var(--jp-content-font-color1, black)));\n",
       "  --sklearn-color-background: var(--sg-background-color, var(--theme-background, var(--jp-layout-color0, white)));\n",
       "  --sklearn-color-border-box: var(--sg-text-color, var(--theme-code-foreground, var(--jp-content-font-color1, black)));\n",
       "  --sklearn-color-icon: #696969;\n",
       "\n",
       "  @media (prefers-color-scheme: dark) {\n",
       "    /* Redefinition of color scheme for dark theme */\n",
       "    --sklearn-color-text-on-default-background: var(--sg-text-color, var(--theme-code-foreground, var(--jp-content-font-color1, white)));\n",
       "    --sklearn-color-background: var(--sg-background-color, var(--theme-background, var(--jp-layout-color0, #111)));\n",
       "    --sklearn-color-border-box: var(--sg-text-color, var(--theme-code-foreground, var(--jp-content-font-color1, white)));\n",
       "    --sklearn-color-icon: #878787;\n",
       "  }\n",
       "}\n",
       "\n",
       "#sk-container-id-11 {\n",
       "  color: var(--sklearn-color-text);\n",
       "}\n",
       "\n",
       "#sk-container-id-11 pre {\n",
       "  padding: 0;\n",
       "}\n",
       "\n",
       "#sk-container-id-11 input.sk-hidden--visually {\n",
       "  border: 0;\n",
       "  clip: rect(1px 1px 1px 1px);\n",
       "  clip: rect(1px, 1px, 1px, 1px);\n",
       "  height: 1px;\n",
       "  margin: -1px;\n",
       "  overflow: hidden;\n",
       "  padding: 0;\n",
       "  position: absolute;\n",
       "  width: 1px;\n",
       "}\n",
       "\n",
       "#sk-container-id-11 div.sk-dashed-wrapped {\n",
       "  border: 1px dashed var(--sklearn-color-line);\n",
       "  margin: 0 0.4em 0.5em 0.4em;\n",
       "  box-sizing: border-box;\n",
       "  padding-bottom: 0.4em;\n",
       "  background-color: var(--sklearn-color-background);\n",
       "}\n",
       "\n",
       "#sk-container-id-11 div.sk-container {\n",
       "  /* jupyter's `normalize.less` sets `[hidden] { display: none; }`\n",
       "     but bootstrap.min.css set `[hidden] { display: none !important; }`\n",
       "     so we also need the `!important` here to be able to override the\n",
       "     default hidden behavior on the sphinx rendered scikit-learn.org.\n",
       "     See: https://github.com/scikit-learn/scikit-learn/issues/21755 */\n",
       "  display: inline-block !important;\n",
       "  position: relative;\n",
       "}\n",
       "\n",
       "#sk-container-id-11 div.sk-text-repr-fallback {\n",
       "  display: none;\n",
       "}\n",
       "\n",
       "div.sk-parallel-item,\n",
       "div.sk-serial,\n",
       "div.sk-item {\n",
       "  /* draw centered vertical line to link estimators */\n",
       "  background-image: linear-gradient(var(--sklearn-color-text-on-default-background), var(--sklearn-color-text-on-default-background));\n",
       "  background-size: 2px 100%;\n",
       "  background-repeat: no-repeat;\n",
       "  background-position: center center;\n",
       "}\n",
       "\n",
       "/* Parallel-specific style estimator block */\n",
       "\n",
       "#sk-container-id-11 div.sk-parallel-item::after {\n",
       "  content: \"\";\n",
       "  width: 100%;\n",
       "  border-bottom: 2px solid var(--sklearn-color-text-on-default-background);\n",
       "  flex-grow: 1;\n",
       "}\n",
       "\n",
       "#sk-container-id-11 div.sk-parallel {\n",
       "  display: flex;\n",
       "  align-items: stretch;\n",
       "  justify-content: center;\n",
       "  background-color: var(--sklearn-color-background);\n",
       "  position: relative;\n",
       "}\n",
       "\n",
       "#sk-container-id-11 div.sk-parallel-item {\n",
       "  display: flex;\n",
       "  flex-direction: column;\n",
       "}\n",
       "\n",
       "#sk-container-id-11 div.sk-parallel-item:first-child::after {\n",
       "  align-self: flex-end;\n",
       "  width: 50%;\n",
       "}\n",
       "\n",
       "#sk-container-id-11 div.sk-parallel-item:last-child::after {\n",
       "  align-self: flex-start;\n",
       "  width: 50%;\n",
       "}\n",
       "\n",
       "#sk-container-id-11 div.sk-parallel-item:only-child::after {\n",
       "  width: 0;\n",
       "}\n",
       "\n",
       "/* Serial-specific style estimator block */\n",
       "\n",
       "#sk-container-id-11 div.sk-serial {\n",
       "  display: flex;\n",
       "  flex-direction: column;\n",
       "  align-items: center;\n",
       "  background-color: var(--sklearn-color-background);\n",
       "  padding-right: 1em;\n",
       "  padding-left: 1em;\n",
       "}\n",
       "\n",
       "\n",
       "/* Toggleable style: style used for estimator/Pipeline/ColumnTransformer box that is\n",
       "clickable and can be expanded/collapsed.\n",
       "- Pipeline and ColumnTransformer use this feature and define the default style\n",
       "- Estimators will overwrite some part of the style using the `sk-estimator` class\n",
       "*/\n",
       "\n",
       "/* Pipeline and ColumnTransformer style (default) */\n",
       "\n",
       "#sk-container-id-11 div.sk-toggleable {\n",
       "  /* Default theme specific background. It is overwritten whether we have a\n",
       "  specific estimator or a Pipeline/ColumnTransformer */\n",
       "  background-color: var(--sklearn-color-background);\n",
       "}\n",
       "\n",
       "/* Toggleable label */\n",
       "#sk-container-id-11 label.sk-toggleable__label {\n",
       "  cursor: pointer;\n",
       "  display: block;\n",
       "  width: 100%;\n",
       "  margin-bottom: 0;\n",
       "  padding: 0.5em;\n",
       "  box-sizing: border-box;\n",
       "  text-align: center;\n",
       "}\n",
       "\n",
       "#sk-container-id-11 label.sk-toggleable__label-arrow:before {\n",
       "  /* Arrow on the left of the label */\n",
       "  content: \"▸\";\n",
       "  float: left;\n",
       "  margin-right: 0.25em;\n",
       "  color: var(--sklearn-color-icon);\n",
       "}\n",
       "\n",
       "#sk-container-id-11 label.sk-toggleable__label-arrow:hover:before {\n",
       "  color: var(--sklearn-color-text);\n",
       "}\n",
       "\n",
       "/* Toggleable content - dropdown */\n",
       "\n",
       "#sk-container-id-11 div.sk-toggleable__content {\n",
       "  max-height: 0;\n",
       "  max-width: 0;\n",
       "  overflow: hidden;\n",
       "  text-align: left;\n",
       "  /* unfitted */\n",
       "  background-color: var(--sklearn-color-unfitted-level-0);\n",
       "}\n",
       "\n",
       "#sk-container-id-11 div.sk-toggleable__content.fitted {\n",
       "  /* fitted */\n",
       "  background-color: var(--sklearn-color-fitted-level-0);\n",
       "}\n",
       "\n",
       "#sk-container-id-11 div.sk-toggleable__content pre {\n",
       "  margin: 0.2em;\n",
       "  border-radius: 0.25em;\n",
       "  color: var(--sklearn-color-text);\n",
       "  /* unfitted */\n",
       "  background-color: var(--sklearn-color-unfitted-level-0);\n",
       "}\n",
       "\n",
       "#sk-container-id-11 div.sk-toggleable__content.fitted pre {\n",
       "  /* unfitted */\n",
       "  background-color: var(--sklearn-color-fitted-level-0);\n",
       "}\n",
       "\n",
       "#sk-container-id-11 input.sk-toggleable__control:checked~div.sk-toggleable__content {\n",
       "  /* Expand drop-down */\n",
       "  max-height: 200px;\n",
       "  max-width: 100%;\n",
       "  overflow: auto;\n",
       "}\n",
       "\n",
       "#sk-container-id-11 input.sk-toggleable__control:checked~label.sk-toggleable__label-arrow:before {\n",
       "  content: \"▾\";\n",
       "}\n",
       "\n",
       "/* Pipeline/ColumnTransformer-specific style */\n",
       "\n",
       "#sk-container-id-11 div.sk-label input.sk-toggleable__control:checked~label.sk-toggleable__label {\n",
       "  color: var(--sklearn-color-text);\n",
       "  background-color: var(--sklearn-color-unfitted-level-2);\n",
       "}\n",
       "\n",
       "#sk-container-id-11 div.sk-label.fitted input.sk-toggleable__control:checked~label.sk-toggleable__label {\n",
       "  background-color: var(--sklearn-color-fitted-level-2);\n",
       "}\n",
       "\n",
       "/* Estimator-specific style */\n",
       "\n",
       "/* Colorize estimator box */\n",
       "#sk-container-id-11 div.sk-estimator input.sk-toggleable__control:checked~label.sk-toggleable__label {\n",
       "  /* unfitted */\n",
       "  background-color: var(--sklearn-color-unfitted-level-2);\n",
       "}\n",
       "\n",
       "#sk-container-id-11 div.sk-estimator.fitted input.sk-toggleable__control:checked~label.sk-toggleable__label {\n",
       "  /* fitted */\n",
       "  background-color: var(--sklearn-color-fitted-level-2);\n",
       "}\n",
       "\n",
       "#sk-container-id-11 div.sk-label label.sk-toggleable__label,\n",
       "#sk-container-id-11 div.sk-label label {\n",
       "  /* The background is the default theme color */\n",
       "  color: var(--sklearn-color-text-on-default-background);\n",
       "}\n",
       "\n",
       "/* On hover, darken the color of the background */\n",
       "#sk-container-id-11 div.sk-label:hover label.sk-toggleable__label {\n",
       "  color: var(--sklearn-color-text);\n",
       "  background-color: var(--sklearn-color-unfitted-level-2);\n",
       "}\n",
       "\n",
       "/* Label box, darken color on hover, fitted */\n",
       "#sk-container-id-11 div.sk-label.fitted:hover label.sk-toggleable__label.fitted {\n",
       "  color: var(--sklearn-color-text);\n",
       "  background-color: var(--sklearn-color-fitted-level-2);\n",
       "}\n",
       "\n",
       "/* Estimator label */\n",
       "\n",
       "#sk-container-id-11 div.sk-label label {\n",
       "  font-family: monospace;\n",
       "  font-weight: bold;\n",
       "  display: inline-block;\n",
       "  line-height: 1.2em;\n",
       "}\n",
       "\n",
       "#sk-container-id-11 div.sk-label-container {\n",
       "  text-align: center;\n",
       "}\n",
       "\n",
       "/* Estimator-specific */\n",
       "#sk-container-id-11 div.sk-estimator {\n",
       "  font-family: monospace;\n",
       "  border: 1px dotted var(--sklearn-color-border-box);\n",
       "  border-radius: 0.25em;\n",
       "  box-sizing: border-box;\n",
       "  margin-bottom: 0.5em;\n",
       "  /* unfitted */\n",
       "  background-color: var(--sklearn-color-unfitted-level-0);\n",
       "}\n",
       "\n",
       "#sk-container-id-11 div.sk-estimator.fitted {\n",
       "  /* fitted */\n",
       "  background-color: var(--sklearn-color-fitted-level-0);\n",
       "}\n",
       "\n",
       "/* on hover */\n",
       "#sk-container-id-11 div.sk-estimator:hover {\n",
       "  /* unfitted */\n",
       "  background-color: var(--sklearn-color-unfitted-level-2);\n",
       "}\n",
       "\n",
       "#sk-container-id-11 div.sk-estimator.fitted:hover {\n",
       "  /* fitted */\n",
       "  background-color: var(--sklearn-color-fitted-level-2);\n",
       "}\n",
       "\n",
       "/* Specification for estimator info (e.g. \"i\" and \"?\") */\n",
       "\n",
       "/* Common style for \"i\" and \"?\" */\n",
       "\n",
       ".sk-estimator-doc-link,\n",
       "a:link.sk-estimator-doc-link,\n",
       "a:visited.sk-estimator-doc-link {\n",
       "  float: right;\n",
       "  font-size: smaller;\n",
       "  line-height: 1em;\n",
       "  font-family: monospace;\n",
       "  background-color: var(--sklearn-color-background);\n",
       "  border-radius: 1em;\n",
       "  height: 1em;\n",
       "  width: 1em;\n",
       "  text-decoration: none !important;\n",
       "  margin-left: 1ex;\n",
       "  /* unfitted */\n",
       "  border: var(--sklearn-color-unfitted-level-1) 1pt solid;\n",
       "  color: var(--sklearn-color-unfitted-level-1);\n",
       "}\n",
       "\n",
       ".sk-estimator-doc-link.fitted,\n",
       "a:link.sk-estimator-doc-link.fitted,\n",
       "a:visited.sk-estimator-doc-link.fitted {\n",
       "  /* fitted */\n",
       "  border: var(--sklearn-color-fitted-level-1) 1pt solid;\n",
       "  color: var(--sklearn-color-fitted-level-1);\n",
       "}\n",
       "\n",
       "/* On hover */\n",
       "div.sk-estimator:hover .sk-estimator-doc-link:hover,\n",
       ".sk-estimator-doc-link:hover,\n",
       "div.sk-label-container:hover .sk-estimator-doc-link:hover,\n",
       ".sk-estimator-doc-link:hover {\n",
       "  /* unfitted */\n",
       "  background-color: var(--sklearn-color-unfitted-level-3);\n",
       "  color: var(--sklearn-color-background);\n",
       "  text-decoration: none;\n",
       "}\n",
       "\n",
       "div.sk-estimator.fitted:hover .sk-estimator-doc-link.fitted:hover,\n",
       ".sk-estimator-doc-link.fitted:hover,\n",
       "div.sk-label-container:hover .sk-estimator-doc-link.fitted:hover,\n",
       ".sk-estimator-doc-link.fitted:hover {\n",
       "  /* fitted */\n",
       "  background-color: var(--sklearn-color-fitted-level-3);\n",
       "  color: var(--sklearn-color-background);\n",
       "  text-decoration: none;\n",
       "}\n",
       "\n",
       "/* Span, style for the box shown on hovering the info icon */\n",
       ".sk-estimator-doc-link span {\n",
       "  display: none;\n",
       "  z-index: 9999;\n",
       "  position: relative;\n",
       "  font-weight: normal;\n",
       "  right: .2ex;\n",
       "  padding: .5ex;\n",
       "  margin: .5ex;\n",
       "  width: min-content;\n",
       "  min-width: 20ex;\n",
       "  max-width: 50ex;\n",
       "  color: var(--sklearn-color-text);\n",
       "  box-shadow: 2pt 2pt 4pt #999;\n",
       "  /* unfitted */\n",
       "  background: var(--sklearn-color-unfitted-level-0);\n",
       "  border: .5pt solid var(--sklearn-color-unfitted-level-3);\n",
       "}\n",
       "\n",
       ".sk-estimator-doc-link.fitted span {\n",
       "  /* fitted */\n",
       "  background: var(--sklearn-color-fitted-level-0);\n",
       "  border: var(--sklearn-color-fitted-level-3);\n",
       "}\n",
       "\n",
       ".sk-estimator-doc-link:hover span {\n",
       "  display: block;\n",
       "}\n",
       "\n",
       "/* \"?\"-specific style due to the `<a>` HTML tag */\n",
       "\n",
       "#sk-container-id-11 a.estimator_doc_link {\n",
       "  float: right;\n",
       "  font-size: 1rem;\n",
       "  line-height: 1em;\n",
       "  font-family: monospace;\n",
       "  background-color: var(--sklearn-color-background);\n",
       "  border-radius: 1rem;\n",
       "  height: 1rem;\n",
       "  width: 1rem;\n",
       "  text-decoration: none;\n",
       "  /* unfitted */\n",
       "  color: var(--sklearn-color-unfitted-level-1);\n",
       "  border: var(--sklearn-color-unfitted-level-1) 1pt solid;\n",
       "}\n",
       "\n",
       "#sk-container-id-11 a.estimator_doc_link.fitted {\n",
       "  /* fitted */\n",
       "  border: var(--sklearn-color-fitted-level-1) 1pt solid;\n",
       "  color: var(--sklearn-color-fitted-level-1);\n",
       "}\n",
       "\n",
       "/* On hover */\n",
       "#sk-container-id-11 a.estimator_doc_link:hover {\n",
       "  /* unfitted */\n",
       "  background-color: var(--sklearn-color-unfitted-level-3);\n",
       "  color: var(--sklearn-color-background);\n",
       "  text-decoration: none;\n",
       "}\n",
       "\n",
       "#sk-container-id-11 a.estimator_doc_link.fitted:hover {\n",
       "  /* fitted */\n",
       "  background-color: var(--sklearn-color-fitted-level-3);\n",
       "}\n",
       "</style><div id=\"sk-container-id-11\" class=\"sk-top-container\"><div class=\"sk-text-repr-fallback\"><pre>RandomForestRegressor(n_estimators=10, verbose=4)</pre><b>In a Jupyter environment, please rerun this cell to show the HTML representation or trust the notebook. <br />On GitHub, the HTML representation is unable to render, please try loading this page with nbviewer.org.</b></div><div class=\"sk-container\" hidden><div class=\"sk-item\"><div class=\"sk-estimator fitted sk-toggleable\"><input class=\"sk-toggleable__control sk-hidden--visually\" id=\"sk-estimator-id-11\" type=\"checkbox\" checked><label for=\"sk-estimator-id-11\" class=\"sk-toggleable__label fitted sk-toggleable__label-arrow fitted\">&nbsp;&nbsp;RandomForestRegressor<a class=\"sk-estimator-doc-link fitted\" rel=\"noreferrer\" target=\"_blank\" href=\"https://scikit-learn.org/1.4/modules/generated/sklearn.ensemble.RandomForestRegressor.html\">?<span>Documentation for RandomForestRegressor</span></a><span class=\"sk-estimator-doc-link fitted\">i<span>Fitted</span></span></label><div class=\"sk-toggleable__content fitted\"><pre>RandomForestRegressor(n_estimators=10, verbose=4)</pre></div> </div></div></div></div>"
      ],
      "text/plain": [
       "RandomForestRegressor(n_estimators=10, verbose=4)"
      ]
     },
     "execution_count": 515,
     "metadata": {},
     "output_type": "execute_result"
    }
   ],
   "source": [
    "rfmodel.fit(x_train, y_train)"
   ]
  },
  {
   "cell_type": "code",
   "execution_count": null,
   "id": "8870b208",
   "metadata": {
    "execution": {
     "iopub.execute_input": "2022-08-23T04:51:57.610729Z",
     "iopub.status.busy": "2022-08-23T04:51:57.609871Z",
     "iopub.status.idle": "2022-08-23T04:51:57.624385Z",
     "shell.execute_reply": "2022-08-23T04:51:57.623467Z"
    },
    "papermill": {
     "duration": 0.044823,
     "end_time": "2022-08-23T04:51:57.626891",
     "exception": false,
     "start_time": "2022-08-23T04:51:57.582068",
     "status": "completed"
    },
    "tags": []
   },
   "outputs": [],
   "source": [
    "y_pred = rfmodel.predict(x_test)"
   ]
  },
  {
   "cell_type": "code",
   "execution_count": null,
   "id": "d65a702e",
   "metadata": {
    "execution": {
     "iopub.execute_input": "2022-08-23T04:51:57.681715Z",
     "iopub.status.busy": "2022-08-23T04:51:57.680966Z",
     "iopub.status.idle": "2022-08-23T04:51:57.695962Z",
     "shell.execute_reply": "2022-08-23T04:51:57.695068Z"
    },
    "papermill": {
     "duration": 0.045369,
     "end_time": "2022-08-23T04:51:57.698547",
     "exception": false,
     "start_time": "2022-08-23T04:51:57.653178",
     "status": "completed"
    },
    "tags": []
   },
   "outputs": [],
   "source": [
    "r2_score = rfmodel.score(x_test,y_test)"
   ]
  },
  {
   "cell_type": "code",
   "execution_count": null,
   "id": "6d992395",
   "metadata": {
    "execution": {
     "iopub.execute_input": "2022-08-23T04:51:57.755355Z",
     "iopub.status.busy": "2022-08-23T04:51:57.754083Z",
     "iopub.status.idle": "2022-08-23T04:51:57.761058Z",
     "shell.execute_reply": "2022-08-23T04:51:57.759527Z"
    },
    "papermill": {
     "duration": 0.03826,
     "end_time": "2022-08-23T04:51:57.763496",
     "exception": false,
     "start_time": "2022-08-23T04:51:57.725236",
     "status": "completed"
    },
    "scrolled": true,
    "tags": []
   },
   "outputs": [
    {
     "name": "stdout",
     "output_type": "stream",
     "text": [
      "98.75544716800418 %\n"
     ]
    }
   ],
   "source": [
    "print(r2_score*100,'%')"
   ]
  },
  {
   "cell_type": "markdown",
   "id": "a8f5d659",
   "metadata": {},
   "source": [
    "**REANDOM FOREST PROVIDES MORE ACCURANCY AS COMPARED TO LINER REGRESSION**\n"
   ]
  },
  {
   "cell_type": "code",
   "execution_count": null,
   "id": "dce722fc",
   "metadata": {},
   "outputs": [],
   "source": [
    "import pickle\n",
    "\n",
    "# Assuming 'model' is the trained RandomForestRegressor\n",
    "with open('rfmodel.pkl', 'wb') as file:\n",
    "    pickle.dump(rfmodel, file)\n"
   ]
  },
  {
   "cell_type": "code",
   "execution_count": null,
   "id": "36b1a394",
   "metadata": {},
   "outputs": [],
   "source": []
  }
 ],
 "metadata": {
  "kernelspec": {
   "display_name": "Python 3 (ipykernel)",
   "language": "python",
   "name": "python3"
  },
  "language_info": {
   "codemirror_mode": {
    "name": "ipython",
    "version": 3
   },
   "file_extension": ".py",
   "mimetype": "text/x-python",
   "name": "python",
   "nbconvert_exporter": "python",
   "pygments_lexer": "ipython3",
   "version": "3.11.5"
  },
  "papermill": {
   "default_parameters": {},
   "duration": 20.760049,
   "end_time": "2022-08-23T04:51:59.662686",
   "environment_variables": {},
   "exception": null,
   "input_path": "__notebook__.ipynb",
   "output_path": "__notebook__.ipynb",
   "parameters": {},
   "start_time": "2022-08-23T04:51:38.902637",
   "version": "2.3.4"
  }
 },
 "nbformat": 4,
 "nbformat_minor": 5
}
